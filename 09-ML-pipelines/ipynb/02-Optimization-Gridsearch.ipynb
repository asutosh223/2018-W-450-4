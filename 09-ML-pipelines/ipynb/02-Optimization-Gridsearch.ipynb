{
 "cells": [
  {
   "cell_type": "code",
   "execution_count": 1,
   "metadata": {},
   "outputs": [
    {
     "name": "stdout",
     "output_type": "stream",
     "text": [
      "/home/jovyan/2018-W-450-4/09-ML-pipelines\n"
     ]
    }
   ],
   "source": [
    "cd .. "
   ]
  },
  {
   "cell_type": "code",
   "execution_count": 2,
   "metadata": {},
   "outputs": [],
   "source": [
    "run __init__.py"
   ]
  },
  {
   "cell_type": "code",
   "execution_count": 3,
   "metadata": {},
   "outputs": [],
   "source": [
    "run src/load_data.py"
   ]
  },
  {
   "cell_type": "code",
   "execution_count": 4,
   "metadata": {},
   "outputs": [],
   "source": [
    "adult_train_df = data['adult']['train']['engineered']\n",
    "adult_train_target = data['adult']['train']['labels']"
   ]
  },
  {
   "cell_type": "code",
   "execution_count": 5,
   "metadata": {},
   "outputs": [],
   "source": [
    "from sklearn.model_selection import train_test_split"
   ]
  },
  {
   "cell_type": "code",
   "execution_count": 6,
   "metadata": {},
   "outputs": [],
   "source": [
    "X_train, X_test, y_train, y_test = train_test_split(adult_train_df,\n",
    "                                                    adult_train_target, \n",
    "                                                    test_size=0.25, \n",
    "                                                    random_state=42,\n",
    "                                                    stratify=adult_train_target)"
   ]
  },
  {
   "cell_type": "code",
   "execution_count": 7,
   "metadata": {},
   "outputs": [],
   "source": [
    "from sklearn.preprocessing import StandardScaler\n",
    "\n",
    "scaler = StandardScaler()\n",
    "\n",
    "X_train_scaled = scaler.fit_transform(X_train)\n",
    "X_test_scaled = scaler.transform(X_test)"
   ]
  },
  {
   "cell_type": "code",
   "execution_count": 18,
   "metadata": {},
   "outputs": [],
   "source": [
    "sample_perc = 25\n",
    "X_train_scaled = pd.DataFrame(X_train_scaled, columns=X_train.columns)\n",
    "y_train = pd.Series(y_train)"
   ]
  },
  {
   "cell_type": "code",
   "execution_count": 19,
   "metadata": {},
   "outputs": [],
   "source": [
    "X_train_scaled_sample = X_train_scaled.sample(frac=sample_perc/100)\n",
    "y_train_sample = y_train.iloc[X_train_scaled_sample.index]"
   ]
  },
  {
   "cell_type": "code",
   "execution_count": 20,
   "metadata": {},
   "outputs": [],
   "source": [
    "from sklearn.neighbors import KNeighborsClassifier\n",
    "from sklearn.linear_model import LogisticRegression\n",
    "from sklearn.tree import DecisionTreeClassifier\n",
    "from sklearn.svm import SVC\n",
    "\n",
    "from sklearn.model_selection import GridSearchCV"
   ]
  },
  {
   "cell_type": "code",
   "execution_count": 21,
   "metadata": {},
   "outputs": [],
   "source": [
    "knc_params = { 'n_neighbors' : range(5,51,10) }"
   ]
  },
  {
   "cell_type": "code",
   "execution_count": 22,
   "metadata": {},
   "outputs": [],
   "source": [
    "knc_gs = GridSearchCV(KNeighborsClassifier(), \n",
    "                      param_grid=knc_params,\n",
    "                      cv=5,\n",
    "                      return_train_score=True,\n",
    "                      scoring='f1',n_jobs=-1)"
   ]
  },
  {
   "cell_type": "code",
   "execution_count": 23,
   "metadata": {},
   "outputs": [
    {
     "data": {
      "text/plain": [
       "GridSearchCV(cv=5, error_score='raise',\n",
       "       estimator=KNeighborsClassifier(algorithm='auto', leaf_size=30, metric='minkowski',\n",
       "           metric_params=None, n_jobs=1, n_neighbors=5, p=2,\n",
       "           weights='uniform'),\n",
       "       fit_params=None, iid=True, n_jobs=1,\n",
       "       param_grid={'n_neighbors': range(5, 51, 10)},\n",
       "       pre_dispatch='2*n_jobs', refit=True, return_train_score=True,\n",
       "       scoring='f1', verbose=0)"
      ]
     },
     "execution_count": 23,
     "metadata": {},
     "output_type": "execute_result"
    }
   ],
   "source": [
    "knc_gs.fit(X_train_scaled_sample, y_train_sample)"
   ]
  },
  {
   "cell_type": "code",
   "execution_count": 25,
   "metadata": {},
   "outputs": [
    {
     "data": {
      "text/html": [
       "<div>\n",
       "<table border=\"1\" class=\"dataframe\">\n",
       "  <thead>\n",
       "    <tr style=\"text-align: right;\">\n",
       "      <th></th>\n",
       "      <th>0</th>\n",
       "      <th>1</th>\n",
       "      <th>2</th>\n",
       "      <th>3</th>\n",
       "      <th>4</th>\n",
       "    </tr>\n",
       "  </thead>\n",
       "  <tbody>\n",
       "    <tr>\n",
       "      <th>mean_fit_time</th>\n",
       "      <td>0.030521</td>\n",
       "      <td>0.0333937</td>\n",
       "      <td>0.034469</td>\n",
       "      <td>0.032277</td>\n",
       "      <td>0.0305801</td>\n",
       "    </tr>\n",
       "    <tr>\n",
       "      <th>mean_score_time</th>\n",
       "      <td>0.504898</td>\n",
       "      <td>0.538492</td>\n",
       "      <td>0.550618</td>\n",
       "      <td>0.557047</td>\n",
       "      <td>0.560446</td>\n",
       "    </tr>\n",
       "    <tr>\n",
       "      <th>mean_test_score</th>\n",
       "      <td>0.544291</td>\n",
       "      <td>0.563164</td>\n",
       "      <td>0.552969</td>\n",
       "      <td>0.558784</td>\n",
       "      <td>0.565028</td>\n",
       "    </tr>\n",
       "    <tr>\n",
       "      <th>mean_train_score</th>\n",
       "      <td>0.686656</td>\n",
       "      <td>0.614668</td>\n",
       "      <td>0.601044</td>\n",
       "      <td>0.591178</td>\n",
       "      <td>0.585982</td>\n",
       "    </tr>\n",
       "    <tr>\n",
       "      <th>param_n_neighbors</th>\n",
       "      <td>5</td>\n",
       "      <td>15</td>\n",
       "      <td>25</td>\n",
       "      <td>35</td>\n",
       "      <td>45</td>\n",
       "    </tr>\n",
       "    <tr>\n",
       "      <th>params</th>\n",
       "      <td>{'n_neighbors': 5}</td>\n",
       "      <td>{'n_neighbors': 15}</td>\n",
       "      <td>{'n_neighbors': 25}</td>\n",
       "      <td>{'n_neighbors': 35}</td>\n",
       "      <td>{'n_neighbors': 45}</td>\n",
       "    </tr>\n",
       "    <tr>\n",
       "      <th>rank_test_score</th>\n",
       "      <td>5</td>\n",
       "      <td>2</td>\n",
       "      <td>4</td>\n",
       "      <td>3</td>\n",
       "      <td>1</td>\n",
       "    </tr>\n",
       "    <tr>\n",
       "      <th>split0_test_score</th>\n",
       "      <td>0.558824</td>\n",
       "      <td>0.605327</td>\n",
       "      <td>0.584323</td>\n",
       "      <td>0.579853</td>\n",
       "      <td>0.584383</td>\n",
       "    </tr>\n",
       "    <tr>\n",
       "      <th>split0_train_score</th>\n",
       "      <td>0.689223</td>\n",
       "      <td>0.631183</td>\n",
       "      <td>0.616344</td>\n",
       "      <td>0.603215</td>\n",
       "      <td>0.581287</td>\n",
       "    </tr>\n",
       "    <tr>\n",
       "      <th>split1_test_score</th>\n",
       "      <td>0.522427</td>\n",
       "      <td>0.532609</td>\n",
       "      <td>0.52459</td>\n",
       "      <td>0.548387</td>\n",
       "      <td>0.549451</td>\n",
       "    </tr>\n",
       "    <tr>\n",
       "      <th>split1_train_score</th>\n",
       "      <td>0.678414</td>\n",
       "      <td>0.610499</td>\n",
       "      <td>0.59201</td>\n",
       "      <td>0.581579</td>\n",
       "      <td>0.572783</td>\n",
       "    </tr>\n",
       "    <tr>\n",
       "      <th>split2_test_score</th>\n",
       "      <td>0.533333</td>\n",
       "      <td>0.503778</td>\n",
       "      <td>0.51928</td>\n",
       "      <td>0.509186</td>\n",
       "      <td>0.516129</td>\n",
       "    </tr>\n",
       "    <tr>\n",
       "      <th>split2_train_score</th>\n",
       "      <td>0.699938</td>\n",
       "      <td>0.629042</td>\n",
       "      <td>0.628068</td>\n",
       "      <td>0.607579</td>\n",
       "      <td>0.601712</td>\n",
       "    </tr>\n",
       "    <tr>\n",
       "      <th>split3_test_score</th>\n",
       "      <td>0.562814</td>\n",
       "      <td>0.580153</td>\n",
       "      <td>0.546875</td>\n",
       "      <td>0.565445</td>\n",
       "      <td>0.569892</td>\n",
       "    </tr>\n",
       "    <tr>\n",
       "      <th>split3_train_score</th>\n",
       "      <td>0.684112</td>\n",
       "      <td>0.597403</td>\n",
       "      <td>0.588694</td>\n",
       "      <td>0.583884</td>\n",
       "      <td>0.583726</td>\n",
       "    </tr>\n",
       "    <tr>\n",
       "      <th>split4_test_score</th>\n",
       "      <td>0.544041</td>\n",
       "      <td>0.593909</td>\n",
       "      <td>0.589744</td>\n",
       "      <td>0.591029</td>\n",
       "      <td>0.605263</td>\n",
       "    </tr>\n",
       "    <tr>\n",
       "      <th>split4_train_score</th>\n",
       "      <td>0.681592</td>\n",
       "      <td>0.605213</td>\n",
       "      <td>0.580103</td>\n",
       "      <td>0.579634</td>\n",
       "      <td>0.590401</td>\n",
       "    </tr>\n",
       "    <tr>\n",
       "      <th>std_fit_time</th>\n",
       "      <td>0.000271463</td>\n",
       "      <td>0.00119399</td>\n",
       "      <td>0.000367313</td>\n",
       "      <td>0.00189167</td>\n",
       "      <td>0.000146654</td>\n",
       "    </tr>\n",
       "    <tr>\n",
       "      <th>std_score_time</th>\n",
       "      <td>0.00396684</td>\n",
       "      <td>0.0027468</td>\n",
       "      <td>0.00160982</td>\n",
       "      <td>0.00226472</td>\n",
       "      <td>0.0022249</td>\n",
       "    </tr>\n",
       "    <tr>\n",
       "      <th>std_test_score</th>\n",
       "      <td>0.0151817</td>\n",
       "      <td>0.0386578</td>\n",
       "      <td>0.0293701</td>\n",
       "      <td>0.0286203</td>\n",
       "      <td>0.0304969</td>\n",
       "    </tr>\n",
       "    <tr>\n",
       "      <th>std_train_score</th>\n",
       "      <td>0.00752403</td>\n",
       "      <td>0.0132986</td>\n",
       "      <td>0.0180944</td>\n",
       "      <td>0.0117685</td>\n",
       "      <td>0.00967785</td>\n",
       "    </tr>\n",
       "  </tbody>\n",
       "</table>\n",
       "</div>"
      ],
      "text/plain": [
       "                                     0                    1  \\\n",
       "mean_fit_time                 0.030521            0.0333937   \n",
       "mean_score_time               0.504898             0.538492   \n",
       "mean_test_score               0.544291             0.563164   \n",
       "mean_train_score              0.686656             0.614668   \n",
       "param_n_neighbors                    5                   15   \n",
       "params              {'n_neighbors': 5}  {'n_neighbors': 15}   \n",
       "rank_test_score                      5                    2   \n",
       "split0_test_score             0.558824             0.605327   \n",
       "split0_train_score            0.689223             0.631183   \n",
       "split1_test_score             0.522427             0.532609   \n",
       "split1_train_score            0.678414             0.610499   \n",
       "split2_test_score             0.533333             0.503778   \n",
       "split2_train_score            0.699938             0.629042   \n",
       "split3_test_score             0.562814             0.580153   \n",
       "split3_train_score            0.684112             0.597403   \n",
       "split4_test_score             0.544041             0.593909   \n",
       "split4_train_score            0.681592             0.605213   \n",
       "std_fit_time               0.000271463           0.00119399   \n",
       "std_score_time              0.00396684            0.0027468   \n",
       "std_test_score               0.0151817            0.0386578   \n",
       "std_train_score             0.00752403            0.0132986   \n",
       "\n",
       "                                      2                    3  \\\n",
       "mean_fit_time                  0.034469             0.032277   \n",
       "mean_score_time                0.550618             0.557047   \n",
       "mean_test_score                0.552969             0.558784   \n",
       "mean_train_score               0.601044             0.591178   \n",
       "param_n_neighbors                    25                   35   \n",
       "params              {'n_neighbors': 25}  {'n_neighbors': 35}   \n",
       "rank_test_score                       4                    3   \n",
       "split0_test_score              0.584323             0.579853   \n",
       "split0_train_score             0.616344             0.603215   \n",
       "split1_test_score               0.52459             0.548387   \n",
       "split1_train_score              0.59201             0.581579   \n",
       "split2_test_score               0.51928             0.509186   \n",
       "split2_train_score             0.628068             0.607579   \n",
       "split3_test_score              0.546875             0.565445   \n",
       "split3_train_score             0.588694             0.583884   \n",
       "split4_test_score              0.589744             0.591029   \n",
       "split4_train_score             0.580103             0.579634   \n",
       "std_fit_time                0.000367313           0.00189167   \n",
       "std_score_time               0.00160982           0.00226472   \n",
       "std_test_score                0.0293701            0.0286203   \n",
       "std_train_score               0.0180944            0.0117685   \n",
       "\n",
       "                                      4  \n",
       "mean_fit_time                 0.0305801  \n",
       "mean_score_time                0.560446  \n",
       "mean_test_score                0.565028  \n",
       "mean_train_score               0.585982  \n",
       "param_n_neighbors                    45  \n",
       "params              {'n_neighbors': 45}  \n",
       "rank_test_score                       1  \n",
       "split0_test_score              0.584383  \n",
       "split0_train_score             0.581287  \n",
       "split1_test_score              0.549451  \n",
       "split1_train_score             0.572783  \n",
       "split2_test_score              0.516129  \n",
       "split2_train_score             0.601712  \n",
       "split3_test_score              0.569892  \n",
       "split3_train_score             0.583726  \n",
       "split4_test_score              0.605263  \n",
       "split4_train_score             0.590401  \n",
       "std_fit_time                0.000146654  \n",
       "std_score_time                0.0022249  \n",
       "std_test_score                0.0304969  \n",
       "std_train_score              0.00967785  "
      ]
     },
     "execution_count": 25,
     "metadata": {},
     "output_type": "execute_result"
    }
   ],
   "source": [
    "pd.DataFrame(knc_gs.cv_results_).T"
   ]
  },
  {
   "cell_type": "code",
   "execution_count": 26,
   "metadata": {},
   "outputs": [
    {
     "data": {
      "text/plain": [
       "KNeighborsClassifier(algorithm='auto', leaf_size=30, metric='minkowski',\n",
       "           metric_params=None, n_jobs=1, n_neighbors=45, p=2,\n",
       "           weights='uniform')"
      ]
     },
     "execution_count": 26,
     "metadata": {},
     "output_type": "execute_result"
    }
   ],
   "source": [
    "knc_gs.best_estimator_"
   ]
  },
  {
   "cell_type": "code",
   "execution_count": 27,
   "metadata": {},
   "outputs": [
    {
     "data": {
      "text/plain": [
       "0.56502773496579484"
      ]
     },
     "execution_count": 27,
     "metadata": {},
     "output_type": "execute_result"
    }
   ],
   "source": [
    "knc_gs.best_score_"
   ]
  },
  {
   "cell_type": "markdown",
   "metadata": {},
   "source": [
    "**Random Forest**"
   ]
  },
  {
   "cell_type": "code",
   "execution_count": 28,
   "metadata": {},
   "outputs": [],
   "source": [
    "from sklearn.ensemble import RandomForestClassifier"
   ]
  },
  {
   "cell_type": "code",
   "execution_count": 29,
   "metadata": {},
   "outputs": [],
   "source": [
    "rfc = RandomForestClassifier()"
   ]
  },
  {
   "cell_type": "code",
   "execution_count": 30,
   "metadata": {},
   "outputs": [
    {
     "data": {
      "text/plain": [
       "RandomForestClassifier(bootstrap=True, class_weight=None, criterion='gini',\n",
       "            max_depth=None, max_features='auto', max_leaf_nodes=None,\n",
       "            min_impurity_decrease=0.0, min_impurity_split=None,\n",
       "            min_samples_leaf=1, min_samples_split=2,\n",
       "            min_weight_fraction_leaf=0.0, n_estimators=10, n_jobs=1,\n",
       "            oob_score=False, random_state=None, verbose=0,\n",
       "            warm_start=False)"
      ]
     },
     "execution_count": 30,
     "metadata": {},
     "output_type": "execute_result"
    }
   ],
   "source": [
    "rfc.fit(X_train_scaled_sample, y_train_sample)"
   ]
  },
  {
   "cell_type": "code",
   "execution_count": 33,
   "metadata": {},
   "outputs": [],
   "source": [
    "prediction = rfc.predict(X_test_scaled)"
   ]
  },
  {
   "cell_type": "code",
   "execution_count": 34,
   "metadata": {},
   "outputs": [],
   "source": [
    "from sklearn.metrics import classification_report, confusion_matrix"
   ]
  },
  {
   "cell_type": "code",
   "execution_count": 35,
   "metadata": {},
   "outputs": [
    {
     "name": "stdout",
     "output_type": "stream",
     "text": [
      "             precision    recall  f1-score   support\n",
      "\n",
      "          0       0.87      0.93      0.90      4759\n",
      "          1       0.71      0.55      0.62      1509\n",
      "\n",
      "avg / total       0.83      0.84      0.83      6268\n",
      "\n"
     ]
    }
   ],
   "source": [
    "print(classification_report(y_test,prediction))"
   ]
  },
  {
   "cell_type": "code",
   "execution_count": 36,
   "metadata": {},
   "outputs": [
    {
     "name": "stdout",
     "output_type": "stream",
     "text": [
      "[[4420  339]\n",
      " [ 680  829]]\n"
     ]
    }
   ],
   "source": [
    "print(confusion_matrix(y_test,prediction))"
   ]
  },
  {
   "cell_type": "code",
   "execution_count": 42,
   "metadata": {},
   "outputs": [],
   "source": [
    "rfc_parm =  { 'max_depth' : range(1,50,1),\n",
    "            'max_features' :range(1,103,1) }"
   ]
  },
  {
   "cell_type": "code",
   "execution_count": 43,
   "metadata": {},
   "outputs": [],
   "source": [
    "rfc_gs = GridSearchCV(RandomForestClassifier(), \n",
    "                      param_grid=rfc_parm ,n_jobs=-1)"
   ]
  },
  {
   "cell_type": "code",
   "execution_count": 44,
   "metadata": {},
   "outputs": [
    {
     "data": {
      "text/plain": [
       "GridSearchCV(cv=None, error_score='raise',\n",
       "       estimator=RandomForestClassifier(bootstrap=True, class_weight=None, criterion='gini',\n",
       "            max_depth=None, max_features='auto', max_leaf_nodes=None,\n",
       "            min_impurity_decrease=0.0, min_impurity_split=None,\n",
       "            min_samples_leaf=1, min_samples_split=2,\n",
       "            min_weight_fraction_leaf=0.0, n_estimators=10, n_jobs=1,\n",
       "            oob_score=False, random_state=None, verbose=0,\n",
       "            warm_start=False),\n",
       "       fit_params=None, iid=True, n_jobs=-1,\n",
       "       param_grid={'max_depth': range(1, 50), 'max_features': range(1, 103)},\n",
       "       pre_dispatch='2*n_jobs', refit=True, return_train_score='warn',\n",
       "       scoring=None, verbose=0)"
      ]
     },
     "execution_count": 44,
     "metadata": {},
     "output_type": "execute_result"
    }
   ],
   "source": [
    "rfc_gs.fit(X_train_scaled_sample, y_train_sample)"
   ]
  },
  {
   "cell_type": "code",
   "execution_count": 45,
   "metadata": {},
   "outputs": [
    {
     "data": {
      "text/plain": [
       "RandomForestClassifier(bootstrap=True, class_weight=None, criterion='gini',\n",
       "            max_depth=8, max_features=97, max_leaf_nodes=None,\n",
       "            min_impurity_decrease=0.0, min_impurity_split=None,\n",
       "            min_samples_leaf=1, min_samples_split=2,\n",
       "            min_weight_fraction_leaf=0.0, n_estimators=10, n_jobs=1,\n",
       "            oob_score=False, random_state=None, verbose=0,\n",
       "            warm_start=False)"
      ]
     },
     "execution_count": 45,
     "metadata": {},
     "output_type": "execute_result"
    }
   ],
   "source": [
    "rfc_gs.best_estimator_"
   ]
  },
  {
   "cell_type": "code",
   "execution_count": 46,
   "metadata": {},
   "outputs": [
    {
     "data": {
      "text/plain": [
       "0.8583280153158902"
      ]
     },
     "execution_count": 46,
     "metadata": {},
     "output_type": "execute_result"
    }
   ],
   "source": [
    "rfc_gs.best_score_"
   ]
  },
  {
   "cell_type": "code",
   "execution_count": 47,
   "metadata": {},
   "outputs": [
    {
     "data": {
      "text/plain": [
       "810"
      ]
     },
     "execution_count": 47,
     "metadata": {},
     "output_type": "execute_result"
    }
   ],
   "source": [
    "rfc_gs.best_index_"
   ]
  },
  {
   "cell_type": "code",
   "execution_count": 48,
   "metadata": {},
   "outputs": [],
   "source": [
    "predict_rfc_gs = rfc_gs.predict(X_test_scaled)"
   ]
  },
  {
   "cell_type": "code",
   "execution_count": 49,
   "metadata": {},
   "outputs": [
    {
     "name": "stdout",
     "output_type": "stream",
     "text": [
      "             precision    recall  f1-score   support\n",
      "\n",
      "          0       0.87      0.95      0.91      4759\n",
      "          1       0.77      0.55      0.64      1509\n",
      "\n",
      "avg / total       0.84      0.85      0.84      6268\n",
      "\n"
     ]
    }
   ],
   "source": [
    "print(classification_report(y_test,predict_rfc_gs))"
   ]
  },
  {
   "cell_type": "code",
   "execution_count": 50,
   "metadata": {},
   "outputs": [
    {
     "name": "stdout",
     "output_type": "stream",
     "text": [
      "[[4512  247]\n",
      " [ 683  826]]\n"
     ]
    }
   ],
   "source": [
    "print(confusion_matrix(y_test,predict_rfc_gs))"
   ]
  },
  {
   "cell_type": "markdown",
   "metadata": {},
   "source": [
    "**SVC**"
   ]
  },
  {
   "cell_type": "code",
   "execution_count": 51,
   "metadata": {},
   "outputs": [],
   "source": [
    "from sklearn.svm import SVC"
   ]
  },
  {
   "cell_type": "code",
   "execution_count": 52,
   "metadata": {},
   "outputs": [],
   "source": [
    "svc = SVC()"
   ]
  },
  {
   "cell_type": "code",
   "execution_count": 53,
   "metadata": {},
   "outputs": [
    {
     "data": {
      "text/plain": [
       "SVC(C=1.0, cache_size=200, class_weight=None, coef0=0.0,\n",
       "  decision_function_shape='ovr', degree=3, gamma='auto', kernel='rbf',\n",
       "  max_iter=-1, probability=False, random_state=None, shrinking=True,\n",
       "  tol=0.001, verbose=False)"
      ]
     },
     "execution_count": 53,
     "metadata": {},
     "output_type": "execute_result"
    }
   ],
   "source": [
    "svc.fit(X_train_scaled_sample, y_train_sample)"
   ]
  },
  {
   "cell_type": "code",
   "execution_count": 54,
   "metadata": {},
   "outputs": [],
   "source": [
    "prediction_svc = svc.predict(X_test_scaled)"
   ]
  },
  {
   "cell_type": "code",
   "execution_count": 55,
   "metadata": {},
   "outputs": [
    {
     "name": "stdout",
     "output_type": "stream",
     "text": [
      "             precision    recall  f1-score   support\n",
      "\n",
      "          0       0.86      0.94      0.90      4759\n",
      "          1       0.73      0.53      0.61      1509\n",
      "\n",
      "avg / total       0.83      0.84      0.83      6268\n",
      "\n"
     ]
    }
   ],
   "source": [
    "print(classification_report(y_test,prediction_svc))"
   ]
  },
  {
   "cell_type": "code",
   "execution_count": 56,
   "metadata": {},
   "outputs": [],
   "source": [
    "param_grid = [\n",
    " {'C': [1, 10, 100, 1000], 'kernel': ['linear']},\n",
    " {'C': [1, 10, 100, 1000], 'gamma': [0.001, 0.0001], 'kernel': ['rbf']},\n",
    "]"
   ]
  },
  {
   "cell_type": "code",
   "execution_count": 57,
   "metadata": {},
   "outputs": [],
   "source": [
    "svc_gs = GridSearchCV(SVC(), \n",
    "                      param_grid = param_grid ,n_jobs=-1)"
   ]
  },
  {
   "cell_type": "code",
   "execution_count": 59,
   "metadata": {},
   "outputs": [
    {
     "data": {
      "text/plain": [
       "GridSearchCV(cv=None, error_score='raise',\n",
       "       estimator=SVC(C=1.0, cache_size=200, class_weight=None, coef0=0.0,\n",
       "  decision_function_shape='ovr', degree=3, gamma='auto', kernel='rbf',\n",
       "  max_iter=-1, probability=False, random_state=None, shrinking=True,\n",
       "  tol=0.001, verbose=False),\n",
       "       fit_params=None, iid=True, n_jobs=-1,\n",
       "       param_grid=[{'C': [1, 10, 100, 1000], 'kernel': ['linear']}, {'C': [1, 10, 100, 1000], 'gamma': [0.001, 0.0001], 'kernel': ['rbf']}],\n",
       "       pre_dispatch='2*n_jobs', refit=True, return_train_score='warn',\n",
       "       scoring=None, verbose=0)"
      ]
     },
     "execution_count": 59,
     "metadata": {},
     "output_type": "execute_result"
    }
   ],
   "source": [
    "svc_gs.fit(X_train_scaled_sample, y_train_sample)"
   ]
  },
  {
   "cell_type": "code",
   "execution_count": 60,
   "metadata": {},
   "outputs": [
    {
     "data": {
      "text/plain": [
       "0.85003190810465856"
      ]
     },
     "execution_count": 60,
     "metadata": {},
     "output_type": "execute_result"
    }
   ],
   "source": [
    "svc_gs.best_score_"
   ]
  },
  {
   "cell_type": "code",
   "execution_count": 61,
   "metadata": {},
   "outputs": [
    {
     "data": {
      "text/plain": [
       "SVC(C=10, cache_size=200, class_weight=None, coef0=0.0,\n",
       "  decision_function_shape='ovr', degree=3, gamma='auto', kernel='linear',\n",
       "  max_iter=-1, probability=False, random_state=None, shrinking=True,\n",
       "  tol=0.001, verbose=False)"
      ]
     },
     "execution_count": 61,
     "metadata": {},
     "output_type": "execute_result"
    }
   ],
   "source": [
    "svc_gs.best_estimator_"
   ]
  },
  {
   "cell_type": "code",
   "execution_count": 62,
   "metadata": {},
   "outputs": [],
   "source": [
    "prediction_svc_gs = svc_gs.predict(X_test_scaled)"
   ]
  },
  {
   "cell_type": "code",
   "execution_count": 63,
   "metadata": {},
   "outputs": [
    {
     "name": "stdout",
     "output_type": "stream",
     "text": [
      "             precision    recall  f1-score   support\n",
      "\n",
      "          0       0.88      0.94      0.91      4759\n",
      "          1       0.75      0.58      0.66      1509\n",
      "\n",
      "avg / total       0.85      0.85      0.85      6268\n",
      "\n"
     ]
    }
   ],
   "source": [
    "print(classification_report(y_test,prediction_svc_gs))"
   ]
  },
  {
   "cell_type": "code",
   "execution_count": 64,
   "metadata": {},
   "outputs": [
    {
     "name": "stdout",
     "output_type": "stream",
     "text": [
      "[[4461  298]\n",
      " [ 628  881]]\n"
     ]
    }
   ],
   "source": [
    "print(confusion_matrix(y_test,prediction_svc_gs))"
   ]
  },
  {
   "cell_type": "markdown",
   "metadata": {},
   "source": [
    "**Gradient Boost**"
   ]
  },
  {
   "cell_type": "code",
   "execution_count": 65,
   "metadata": {},
   "outputs": [],
   "source": [
    "from sklearn.ensemble import GradientBoostingClassifier"
   ]
  },
  {
   "cell_type": "code",
   "execution_count": 71,
   "metadata": {},
   "outputs": [],
   "source": [
    "gb_grid_params = {'learning_rate': [0.1, 0.05, 0.02, 0.01],\n",
    "              'max_depth': [4, 6, 8],\n",
    "              'min_samples_leaf': [20, 50,100,150],\n",
    "              }"
   ]
  },
  {
   "cell_type": "code",
   "execution_count": 72,
   "metadata": {},
   "outputs": [],
   "source": [
    "gbc = GradientBoostingClassifier(n_estimators = 600)"
   ]
  },
  {
   "cell_type": "code",
   "execution_count": 74,
   "metadata": {},
   "outputs": [],
   "source": [
    "clf = GridSearchCV(gbc,\n",
    "                   gb_grid_params,\n",
    "                   verbose = 3,\n",
    "                   n_jobs=-1);"
   ]
  },
  {
   "cell_type": "code",
   "execution_count": 75,
   "metadata": {},
   "outputs": [
    {
     "name": "stdout",
     "output_type": "stream",
     "text": [
      "Fitting 3 folds for each of 48 candidates, totalling 144 fits\n",
      "[CV] learning_rate=0.1, max_depth=4, min_samples_leaf=20 .............\n",
      "[CV] learning_rate=0.1, max_depth=4, min_samples_leaf=20 .............\n",
      "[CV]  learning_rate=0.1, max_depth=4, min_samples_leaf=20, score=0.8552295918367347, total=   5.0s\n",
      "[CV] learning_rate=0.1, max_depth=4, min_samples_leaf=20 .............\n",
      "[CV]  learning_rate=0.1, max_depth=4, min_samples_leaf=20, score=0.8417358008934269, total=   5.3s\n",
      "[CV] learning_rate=0.1, max_depth=4, min_samples_leaf=50 .............\n",
      "[CV]  learning_rate=0.1, max_depth=4, min_samples_leaf=50, score=0.8622448979591837, total=   4.8s\n",
      "[CV] learning_rate=0.1, max_depth=4, min_samples_leaf=50 .............\n",
      "[CV]  learning_rate=0.1, max_depth=4, min_samples_leaf=20, score=0.8524904214559387, total=   5.2s\n",
      "[CV] learning_rate=0.1, max_depth=4, min_samples_leaf=50 .............\n",
      "[CV]  learning_rate=0.1, max_depth=4, min_samples_leaf=50, score=0.8575989782886334, total=   4.5s\n",
      "[CV] learning_rate=0.1, max_depth=4, min_samples_leaf=100 ............\n",
      "[CV]  learning_rate=0.1, max_depth=4, min_samples_leaf=50, score=0.8404594767070837, total=   4.8s\n",
      "[CV] learning_rate=0.1, max_depth=4, min_samples_leaf=100 ............\n",
      "[CV]  learning_rate=0.1, max_depth=4, min_samples_leaf=100, score=0.8463010204081632, total=   4.7s\n",
      "[CV] learning_rate=0.1, max_depth=4, min_samples_leaf=100 ............\n",
      "[CV]  learning_rate=0.1, max_depth=4, min_samples_leaf=100, score=0.845564773452457, total=   5.0s\n",
      "[CV] learning_rate=0.1, max_depth=4, min_samples_leaf=150 ............\n",
      "[CV]  learning_rate=0.1, max_depth=4, min_samples_leaf=100, score=0.855683269476373, total=   4.6s\n",
      "[CV] learning_rate=0.1, max_depth=4, min_samples_leaf=150 ............\n",
      "[CV]  learning_rate=0.1, max_depth=4, min_samples_leaf=150, score=0.8443877551020408, total=   4.6s\n",
      "[CV] learning_rate=0.1, max_depth=4, min_samples_leaf=150 ............\n",
      "[CV]  learning_rate=0.1, max_depth=4, min_samples_leaf=150, score=0.8391831525207403, total=   5.0s\n",
      "[CV] learning_rate=0.1, max_depth=6, min_samples_leaf=20 .............\n",
      "[CV]  learning_rate=0.1, max_depth=4, min_samples_leaf=150, score=0.8537675606641124, total=   4.8s\n",
      "[CV] learning_rate=0.1, max_depth=6, min_samples_leaf=20 .............\n",
      "[CV]  learning_rate=0.1, max_depth=6, min_samples_leaf=20, score=0.8443877551020408, total=   8.7s\n",
      "[CV] learning_rate=0.1, max_depth=6, min_samples_leaf=20 .............\n",
      "[CV]  learning_rate=0.1, max_depth=6, min_samples_leaf=20, score=0.8328015315890236, total=   9.1s\n",
      "[CV] learning_rate=0.1, max_depth=6, min_samples_leaf=50 .............\n",
      "[CV]  learning_rate=0.1, max_depth=6, min_samples_leaf=50, score=0.8533163265306123, total=   7.9s\n",
      "[CV] learning_rate=0.1, max_depth=6, min_samples_leaf=50 .............\n",
      "[CV]  learning_rate=0.1, max_depth=6, min_samples_leaf=20, score=0.8397190293742018, total=   9.0s\n",
      "[CV] learning_rate=0.1, max_depth=6, min_samples_leaf=50 .............\n",
      "[CV]  learning_rate=0.1, max_depth=6, min_samples_leaf=50, score=0.8353541799617102, total=   7.8s\n",
      "[CV] learning_rate=0.1, max_depth=6, min_samples_leaf=100 ............\n",
      "[CV]  learning_rate=0.1, max_depth=6, min_samples_leaf=50, score=0.855044699872286, total=   7.6s\n",
      "[CV] learning_rate=0.1, max_depth=6, min_samples_leaf=100 ............\n",
      "[CV]  learning_rate=0.1, max_depth=6, min_samples_leaf=100, score=0.8507653061224489, total=   8.0s\n",
      "[CV] learning_rate=0.1, max_depth=6, min_samples_leaf=100 ............\n",
      "[CV]  learning_rate=0.1, max_depth=6, min_samples_leaf=100, score=0.8410976388002552, total=   8.0s\n",
      "[CV] learning_rate=0.1, max_depth=6, min_samples_leaf=150 ............\n",
      "[CV]  learning_rate=0.1, max_depth=6, min_samples_leaf=100, score=0.8524904214559387, total=   7.6s\n",
      "[CV] learning_rate=0.1, max_depth=6, min_samples_leaf=150 ............\n",
      "[CV]  learning_rate=0.1, max_depth=6, min_samples_leaf=150, score=0.8469387755102041, total=   7.4s\n",
      "[CV] learning_rate=0.1, max_depth=6, min_samples_leaf=150 ............\n",
      "[CV]  learning_rate=0.1, max_depth=6, min_samples_leaf=150, score=0.8537675606641124, total=   7.6s\n",
      "[CV] learning_rate=0.1, max_depth=8, min_samples_leaf=20 .............\n",
      "[CV]  learning_rate=0.1, max_depth=6, min_samples_leaf=150, score=0.8372686662412253, total=   7.7s\n",
      "[CV] learning_rate=0.1, max_depth=8, min_samples_leaf=20 .............\n",
      "[CV]  learning_rate=0.1, max_depth=8, min_samples_leaf=20, score=0.8367346938775511, total=  12.8s\n",
      "[CV] learning_rate=0.1, max_depth=8, min_samples_leaf=20 .............\n",
      "[CV]  learning_rate=0.1, max_depth=8, min_samples_leaf=20, score=0.834077855775367, total=  13.4s\n",
      "[CV] learning_rate=0.1, max_depth=8, min_samples_leaf=50 .............\n",
      "[CV]  learning_rate=0.1, max_depth=8, min_samples_leaf=50, score=0.8450255102040817, total=  11.4s\n",
      "[CV] learning_rate=0.1, max_depth=8, min_samples_leaf=50 .............\n",
      "[CV]  learning_rate=0.1, max_depth=8, min_samples_leaf=20, score=0.8365261813537676, total=  13.1s\n",
      "[CV] learning_rate=0.1, max_depth=8, min_samples_leaf=50 .............\n"
     ]
    },
    {
     "name": "stderr",
     "output_type": "stream",
     "text": [
      "[Parallel(n_jobs=-1)]: Done  28 tasks      | elapsed:  1.7min\n"
     ]
    },
    {
     "name": "stdout",
     "output_type": "stream",
     "text": [
      "[CV]  learning_rate=0.1, max_depth=8, min_samples_leaf=50, score=0.8366305041480536, total=  11.0s\n",
      "[CV] learning_rate=0.1, max_depth=8, min_samples_leaf=100 ............\n",
      "[CV]  learning_rate=0.1, max_depth=8, min_samples_leaf=50, score=0.8461047254150702, total=  10.8s\n",
      "[CV] learning_rate=0.1, max_depth=8, min_samples_leaf=100 ............\n",
      "[CV]  learning_rate=0.1, max_depth=8, min_samples_leaf=100, score=0.84375, total=  10.7s\n",
      "[CV] learning_rate=0.1, max_depth=8, min_samples_leaf=100 ............\n",
      "[CV]  learning_rate=0.1, max_depth=8, min_samples_leaf=100, score=0.8379068283343969, total=  10.5s\n",
      "[CV] learning_rate=0.1, max_depth=8, min_samples_leaf=150 ............\n",
      "[CV]  learning_rate=0.1, max_depth=8, min_samples_leaf=150, score=0.8405612244897959, total=   9.4s\n",
      "[CV] learning_rate=0.1, max_depth=8, min_samples_leaf=150 ............\n",
      "[CV]  learning_rate=0.1, max_depth=8, min_samples_leaf=100, score=0.8441890166028098, total=  10.4s\n",
      "[CV] learning_rate=0.1, max_depth=8, min_samples_leaf=150 ............\n",
      "[CV]  learning_rate=0.1, max_depth=8, min_samples_leaf=150, score=0.8328015315890236, total=   9.8s\n",
      "[CV] learning_rate=0.05, max_depth=4, min_samples_leaf=20 ............\n",
      "[CV]  learning_rate=0.1, max_depth=8, min_samples_leaf=150, score=0.8518518518518519, total=   9.5s\n",
      "[CV] learning_rate=0.05, max_depth=4, min_samples_leaf=20 ............\n",
      "[CV]  learning_rate=0.05, max_depth=4, min_samples_leaf=20, score=0.860969387755102, total=   5.1s\n",
      "[CV] learning_rate=0.05, max_depth=4, min_samples_leaf=20 ............\n",
      "[CV]  learning_rate=0.05, max_depth=4, min_samples_leaf=20, score=0.8519463943841736, total=   5.2s\n",
      "[CV] learning_rate=0.05, max_depth=4, min_samples_leaf=50 ............\n",
      "[CV]  learning_rate=0.05, max_depth=4, min_samples_leaf=50, score=0.8679846938775511, total=   4.7s\n",
      "[CV] learning_rate=0.05, max_depth=4, min_samples_leaf=50 ............\n",
      "[CV]  learning_rate=0.05, max_depth=4, min_samples_leaf=20, score=0.8639846743295019, total=   5.2s\n",
      "[CV] learning_rate=0.05, max_depth=4, min_samples_leaf=50 ............\n",
      "[CV]  learning_rate=0.05, max_depth=4, min_samples_leaf=50, score=0.839821314613912, total=   4.7s\n",
      "[CV] learning_rate=0.05, max_depth=4, min_samples_leaf=100 ...........\n",
      "[CV]  learning_rate=0.05, max_depth=4, min_samples_leaf=50, score=0.8575989782886334, total=   4.5s\n",
      "[CV] learning_rate=0.05, max_depth=4, min_samples_leaf=100 ...........\n",
      "[CV]  learning_rate=0.05, max_depth=4, min_samples_leaf=100, score=0.8520408163265306, total=   4.5s\n",
      "[CV] learning_rate=0.05, max_depth=4, min_samples_leaf=100 ...........\n",
      "[CV]  learning_rate=0.05, max_depth=4, min_samples_leaf=100, score=0.8468410976388002, total=   5.0s\n",
      "[CV] learning_rate=0.05, max_depth=4, min_samples_leaf=150 ...........\n",
      "[CV]  learning_rate=0.05, max_depth=4, min_samples_leaf=100, score=0.851213282247765, total=   4.7s\n",
      "[CV] learning_rate=0.05, max_depth=4, min_samples_leaf=150 ...........\n",
      "[CV]  learning_rate=0.05, max_depth=4, min_samples_leaf=150, score=0.8507653061224489, total=   4.5s\n",
      "[CV] learning_rate=0.05, max_depth=4, min_samples_leaf=150 ...........\n",
      "[CV]  learning_rate=0.05, max_depth=4, min_samples_leaf=150, score=0.8410976388002552, total=   5.0s\n",
      "[CV] learning_rate=0.05, max_depth=6, min_samples_leaf=20 ............\n",
      "[CV]  learning_rate=0.05, max_depth=4, min_samples_leaf=150, score=0.8486590038314177, total=   4.8s\n",
      "[CV] learning_rate=0.05, max_depth=6, min_samples_leaf=20 ............\n",
      "[CV]  learning_rate=0.05, max_depth=6, min_samples_leaf=20, score=0.8558673469387755, total=   8.5s\n",
      "[CV] learning_rate=0.05, max_depth=6, min_samples_leaf=20 ............\n",
      "[CV]  learning_rate=0.05, max_depth=6, min_samples_leaf=20, score=0.8481174218251436, total=   9.0s\n",
      "[CV] learning_rate=0.05, max_depth=6, min_samples_leaf=50 ............\n",
      "[CV]  learning_rate=0.05, max_depth=6, min_samples_leaf=20, score=0.8486590038314177, total=   8.7s\n",
      "[CV] learning_rate=0.05, max_depth=6, min_samples_leaf=50 ............\n",
      "[CV]  learning_rate=0.05, max_depth=6, min_samples_leaf=50, score=0.8622448979591837, total=   8.1s\n",
      "[CV] learning_rate=0.05, max_depth=6, min_samples_leaf=50 ............\n",
      "[CV]  learning_rate=0.05, max_depth=6, min_samples_leaf=50, score=0.8582375478927203, total=   7.5s\n",
      "[CV] learning_rate=0.05, max_depth=6, min_samples_leaf=100 ...........\n",
      "[CV]  learning_rate=0.05, max_depth=6, min_samples_leaf=50, score=0.8404594767070837, total=   7.8s\n",
      "[CV] learning_rate=0.05, max_depth=6, min_samples_leaf=100 ...........\n",
      "[CV]  learning_rate=0.05, max_depth=6, min_samples_leaf=100, score=0.8494897959183674, total=   7.8s\n",
      "[CV] learning_rate=0.05, max_depth=6, min_samples_leaf=100 ...........\n",
      "[CV]  learning_rate=0.05, max_depth=6, min_samples_leaf=100, score=0.8481174218251436, total=   7.9s\n",
      "[CV] learning_rate=0.05, max_depth=6, min_samples_leaf=150 ...........\n",
      "[CV]  learning_rate=0.05, max_depth=6, min_samples_leaf=150, score=0.8501275510204082, total=   7.4s\n",
      "[CV] learning_rate=0.05, max_depth=6, min_samples_leaf=150 ...........\n",
      "[CV]  learning_rate=0.05, max_depth=6, min_samples_leaf=100, score=0.8531289910600255, total=   7.7s\n",
      "[CV] learning_rate=0.05, max_depth=6, min_samples_leaf=150 ...........\n",
      "[CV]  learning_rate=0.05, max_depth=6, min_samples_leaf=150, score=0.8486590038314177, total=   7.6s\n",
      "[CV] learning_rate=0.05, max_depth=8, min_samples_leaf=20 ............\n",
      "[CV]  learning_rate=0.05, max_depth=6, min_samples_leaf=150, score=0.8404594767070837, total=   7.9s\n",
      "[CV] learning_rate=0.05, max_depth=8, min_samples_leaf=20 ............\n",
      "[CV]  learning_rate=0.05, max_depth=8, min_samples_leaf=20, score=0.8475765306122449, total=  12.5s\n",
      "[CV] learning_rate=0.05, max_depth=8, min_samples_leaf=20 ............\n",
      "[CV]  learning_rate=0.05, max_depth=8, min_samples_leaf=20, score=0.8359923420548819, total=  13.0s\n",
      "[CV] learning_rate=0.05, max_depth=8, min_samples_leaf=50 ............\n",
      "[CV]  learning_rate=0.05, max_depth=8, min_samples_leaf=50, score=0.8584183673469388, total=  11.4s\n",
      "[CV] learning_rate=0.05, max_depth=8, min_samples_leaf=50 ............\n",
      "[CV]  learning_rate=0.05, max_depth=8, min_samples_leaf=20, score=0.8492975734355045, total=  12.8s\n",
      "[CV] learning_rate=0.05, max_depth=8, min_samples_leaf=50 ............\n",
      "[CV]  learning_rate=0.05, max_depth=8, min_samples_leaf=50, score=0.8372686662412253, total=  11.1s\n",
      "[CV] learning_rate=0.05, max_depth=8, min_samples_leaf=100 ...........\n",
      "[CV]  learning_rate=0.05, max_depth=8, min_samples_leaf=50, score=0.859514687100894, total=  10.7s\n",
      "[CV] learning_rate=0.05, max_depth=8, min_samples_leaf=100 ...........\n",
      "[CV]  learning_rate=0.05, max_depth=8, min_samples_leaf=100, score=0.8494897959183674, total=  10.6s\n",
      "[CV] learning_rate=0.05, max_depth=8, min_samples_leaf=100 ...........\n",
      "[CV]  learning_rate=0.05, max_depth=8, min_samples_leaf=100, score=0.8449266113592853, total=  10.6s\n",
      "[CV] learning_rate=0.05, max_depth=8, min_samples_leaf=150 ...........\n",
      "[CV]  learning_rate=0.05, max_depth=8, min_samples_leaf=150, score=0.8424744897959183, total=   9.4s\n",
      "[CV] learning_rate=0.05, max_depth=8, min_samples_leaf=150 ...........\n",
      "[CV]  learning_rate=0.05, max_depth=8, min_samples_leaf=100, score=0.8524904214559387, total=  10.3s\n",
      "[CV] learning_rate=0.05, max_depth=8, min_samples_leaf=150 ...........\n",
      "[CV]  learning_rate=0.05, max_depth=8, min_samples_leaf=150, score=0.8366305041480536, total=   9.8s\n",
      "[CV] learning_rate=0.02, max_depth=4, min_samples_leaf=20 ............\n",
      "[CV]  learning_rate=0.05, max_depth=8, min_samples_leaf=150, score=0.8524904214559387, total=   9.6s\n",
      "[CV] learning_rate=0.02, max_depth=4, min_samples_leaf=20 ............\n",
      "[CV]  learning_rate=0.02, max_depth=4, min_samples_leaf=20, score=0.8692602040816326, total=   5.5s\n",
      "[CV] learning_rate=0.02, max_depth=4, min_samples_leaf=20 ............\n",
      "[CV]  learning_rate=0.02, max_depth=4, min_samples_leaf=20, score=0.8519463943841736, total=   5.7s\n",
      "[CV] learning_rate=0.02, max_depth=4, min_samples_leaf=50 ............\n",
      "[CV]  learning_rate=0.02, max_depth=4, min_samples_leaf=50, score=0.8679846938775511, total=   5.0s\n",
      "[CV] learning_rate=0.02, max_depth=4, min_samples_leaf=50 ............\n",
      "[CV]  learning_rate=0.02, max_depth=4, min_samples_leaf=20, score=0.8588761174968071, total=   5.9s\n",
      "[CV] learning_rate=0.02, max_depth=4, min_samples_leaf=50 ............\n"
     ]
    },
    {
     "name": "stdout",
     "output_type": "stream",
     "text": [
      "[CV]  learning_rate=0.02, max_depth=4, min_samples_leaf=50, score=0.8449266113592853, total=   5.1s\n",
      "[CV] learning_rate=0.02, max_depth=4, min_samples_leaf=100 ...........\n",
      "[CV]  learning_rate=0.02, max_depth=4, min_samples_leaf=50, score=0.8601532567049809, total=   5.1s\n",
      "[CV] learning_rate=0.02, max_depth=4, min_samples_leaf=100 ...........\n",
      "[CV]  learning_rate=0.02, max_depth=4, min_samples_leaf=100, score=0.8635204081632653, total=   4.7s\n",
      "[CV] learning_rate=0.02, max_depth=4, min_samples_leaf=100 ...........\n",
      "[CV]  learning_rate=0.02, max_depth=4, min_samples_leaf=100, score=0.845564773452457, total=   5.0s\n",
      "[CV] learning_rate=0.02, max_depth=4, min_samples_leaf=150 ...........\n",
      "[CV]  learning_rate=0.02, max_depth=4, min_samples_leaf=100, score=0.851213282247765, total=   5.1s\n",
      "[CV] learning_rate=0.02, max_depth=4, min_samples_leaf=150 ...........\n",
      "[CV]  learning_rate=0.02, max_depth=4, min_samples_leaf=150, score=0.8456632653061225, total=   4.6s\n",
      "[CV] learning_rate=0.02, max_depth=4, min_samples_leaf=150 ...........\n",
      "[CV]  learning_rate=0.02, max_depth=4, min_samples_leaf=150, score=0.8417358008934269, total=   5.0s\n",
      "[CV] learning_rate=0.02, max_depth=6, min_samples_leaf=20 ............\n",
      "[CV]  learning_rate=0.02, max_depth=4, min_samples_leaf=150, score=0.8467432950191571, total=   5.4s\n",
      "[CV] learning_rate=0.02, max_depth=6, min_samples_leaf=20 ............\n",
      "[CV]  learning_rate=0.02, max_depth=6, min_samples_leaf=20, score=0.8718112244897959, total=   9.2s\n",
      "[CV] learning_rate=0.02, max_depth=6, min_samples_leaf=20 ............\n",
      "[CV]  learning_rate=0.02, max_depth=6, min_samples_leaf=20, score=0.8493937460114869, total=   9.5s\n",
      "[CV] learning_rate=0.02, max_depth=6, min_samples_leaf=50 ............\n",
      "[CV]  learning_rate=0.02, max_depth=6, min_samples_leaf=50, score=0.8635204081632653, total=   8.3s\n",
      "[CV] learning_rate=0.02, max_depth=6, min_samples_leaf=50 ............\n",
      "[CV]  learning_rate=0.02, max_depth=6, min_samples_leaf=20, score=0.8614303959131545, total=   9.5s\n",
      "[CV] learning_rate=0.02, max_depth=6, min_samples_leaf=50 ............\n",
      "[CV]  learning_rate=0.02, max_depth=6, min_samples_leaf=50, score=0.8449266113592853, total=   8.2s\n",
      "[CV] learning_rate=0.02, max_depth=6, min_samples_leaf=100 ...........\n",
      "[CV]  learning_rate=0.02, max_depth=6, min_samples_leaf=50, score=0.8569604086845466, total=   8.3s\n",
      "[CV] learning_rate=0.02, max_depth=6, min_samples_leaf=100 ...........\n",
      "[CV]  learning_rate=0.02, max_depth=6, min_samples_leaf=100, score=0.8584183673469388, total=   7.4s\n",
      "[CV] learning_rate=0.02, max_depth=6, min_samples_leaf=100 ...........\n",
      "[CV]  learning_rate=0.02, max_depth=6, min_samples_leaf=100, score=0.8430121250797703, total=   8.0s\n",
      "[CV] learning_rate=0.02, max_depth=6, min_samples_leaf=150 ...........\n",
      "[CV]  learning_rate=0.02, max_depth=6, min_samples_leaf=100, score=0.851213282247765, total=   8.0s\n",
      "[CV] learning_rate=0.02, max_depth=6, min_samples_leaf=150 ...........\n",
      "[CV]  learning_rate=0.02, max_depth=6, min_samples_leaf=150, score=0.8469387755102041, total=   7.1s\n",
      "[CV] learning_rate=0.02, max_depth=6, min_samples_leaf=150 ...........\n",
      "[CV]  learning_rate=0.02, max_depth=6, min_samples_leaf=150, score=0.8430121250797703, total=   8.0s\n",
      "[CV] learning_rate=0.02, max_depth=8, min_samples_leaf=20 ............\n",
      "[CV]  learning_rate=0.02, max_depth=6, min_samples_leaf=150, score=0.8499361430395913, total=   8.0s\n",
      "[CV] learning_rate=0.02, max_depth=8, min_samples_leaf=20 ............\n",
      "[CV]  learning_rate=0.02, max_depth=8, min_samples_leaf=20, score=0.8654336734693877, total=  13.1s\n",
      "[CV] learning_rate=0.02, max_depth=8, min_samples_leaf=20 ............\n",
      "[CV]  learning_rate=0.02, max_depth=8, min_samples_leaf=20, score=0.8538608806636886, total=  13.6s\n",
      "[CV] learning_rate=0.02, max_depth=8, min_samples_leaf=50 ............\n",
      "[CV]  learning_rate=0.02, max_depth=8, min_samples_leaf=50, score=0.8584183673469388, total=  11.7s\n",
      "[CV] learning_rate=0.02, max_depth=8, min_samples_leaf=50 ............\n",
      "[CV]  learning_rate=0.02, max_depth=8, min_samples_leaf=20, score=0.859514687100894, total=  13.3s\n",
      "[CV] learning_rate=0.02, max_depth=8, min_samples_leaf=50 ............\n",
      "[CV]  learning_rate=0.02, max_depth=8, min_samples_leaf=50, score=0.8474792597319719, total=  11.3s\n",
      "[CV] learning_rate=0.02, max_depth=8, min_samples_leaf=100 ...........\n",
      "[CV]  learning_rate=0.02, max_depth=8, min_samples_leaf=50, score=0.8563218390804598, total=  11.3s\n",
      "[CV] learning_rate=0.02, max_depth=8, min_samples_leaf=100 ...........\n",
      "[CV]  learning_rate=0.02, max_depth=8, min_samples_leaf=100, score=0.8571428571428571, total=  10.2s\n",
      "[CV] learning_rate=0.02, max_depth=8, min_samples_leaf=100 ...........\n",
      "[CV]  learning_rate=0.02, max_depth=8, min_samples_leaf=100, score=0.8468410976388002, total=  10.7s\n",
      "[CV] learning_rate=0.02, max_depth=8, min_samples_leaf=150 ...........\n",
      "[CV]  learning_rate=0.02, max_depth=8, min_samples_leaf=100, score=0.855044699872286, total=  10.7s\n",
      "[CV] learning_rate=0.02, max_depth=8, min_samples_leaf=150 ...........\n",
      "[CV]  learning_rate=0.02, max_depth=8, min_samples_leaf=150, score=0.8488520408163265, total=   9.3s\n",
      "[CV] learning_rate=0.02, max_depth=8, min_samples_leaf=150 ...........\n",
      "[CV]  learning_rate=0.02, max_depth=8, min_samples_leaf=150, score=0.8417358008934269, total=   9.9s\n",
      "[CV] learning_rate=0.01, max_depth=4, min_samples_leaf=20 ............\n",
      "[CV]  learning_rate=0.02, max_depth=8, min_samples_leaf=150, score=0.8499361430395913, total=   9.9s\n",
      "[CV] learning_rate=0.01, max_depth=4, min_samples_leaf=20 ............\n",
      "[CV]  learning_rate=0.01, max_depth=4, min_samples_leaf=20, score=0.8673469387755102, total=   6.5s\n",
      "[CV] learning_rate=0.01, max_depth=4, min_samples_leaf=20 ............\n",
      "[CV]  learning_rate=0.01, max_depth=4, min_samples_leaf=20, score=0.8487555839183153, total=   6.7s\n",
      "[CV] learning_rate=0.01, max_depth=4, min_samples_leaf=50 ............\n",
      "[CV]  learning_rate=0.01, max_depth=4, min_samples_leaf=50, score=0.8647959183673469, total=   5.9s\n",
      "[CV] learning_rate=0.01, max_depth=4, min_samples_leaf=50 ............\n",
      "[CV]  learning_rate=0.01, max_depth=4, min_samples_leaf=20, score=0.855683269476373, total=   6.9s\n",
      "[CV] learning_rate=0.01, max_depth=4, min_samples_leaf=50 ............\n",
      "[CV]  learning_rate=0.01, max_depth=4, min_samples_leaf=50, score=0.8442884492661136, total=   5.8s\n",
      "[CV] learning_rate=0.01, max_depth=4, min_samples_leaf=100 ...........\n",
      "[CV]  learning_rate=0.01, max_depth=4, min_samples_leaf=50, score=0.859514687100894, total=   6.0s\n",
      "[CV] learning_rate=0.01, max_depth=4, min_samples_leaf=100 ...........\n",
      "[CV]  learning_rate=0.01, max_depth=4, min_samples_leaf=100, score=0.8654336734693877, total=   5.3s\n",
      "[CV] learning_rate=0.01, max_depth=4, min_samples_leaf=100 ...........\n",
      "[CV]  learning_rate=0.01, max_depth=4, min_samples_leaf=100, score=0.8436502871729419, total=   5.6s\n",
      "[CV] learning_rate=0.01, max_depth=4, min_samples_leaf=150 ...........\n",
      "[CV]  learning_rate=0.01, max_depth=4, min_samples_leaf=100, score=0.855044699872286, total=   5.6s\n",
      "[CV] learning_rate=0.01, max_depth=4, min_samples_leaf=150 ...........\n",
      "[CV]  learning_rate=0.01, max_depth=4, min_samples_leaf=150, score=0.8526785714285714, total=   5.2s\n",
      "[CV] learning_rate=0.01, max_depth=4, min_samples_leaf=150 ...........\n",
      "[CV]  learning_rate=0.01, max_depth=4, min_samples_leaf=150, score=0.8347160178685387, total=   5.7s\n",
      "[CV] learning_rate=0.01, max_depth=6, min_samples_leaf=20 ............\n",
      "[CV]  learning_rate=0.01, max_depth=4, min_samples_leaf=150, score=0.8448275862068966, total=   5.8s\n",
      "[CV] learning_rate=0.01, max_depth=6, min_samples_leaf=20 ............\n",
      "[CV]  learning_rate=0.01, max_depth=6, min_samples_leaf=20, score=0.8667091836734694, total=  11.0s\n",
      "[CV] learning_rate=0.01, max_depth=6, min_samples_leaf=20 ............\n",
      "[CV]  learning_rate=0.01, max_depth=6, min_samples_leaf=20, score=0.8493937460114869, total=  11.3s\n",
      "[CV] learning_rate=0.01, max_depth=6, min_samples_leaf=50 ............\n",
      "[CV]  learning_rate=0.01, max_depth=6, min_samples_leaf=50, score=0.8647959183673469, total=   9.5s\n",
      "[CV] learning_rate=0.01, max_depth=6, min_samples_leaf=50 ............\n",
      "[CV]  learning_rate=0.01, max_depth=6, min_samples_leaf=20, score=0.8601532567049809, total=  11.3s\n",
      "[CV] learning_rate=0.01, max_depth=6, min_samples_leaf=50 ............\n"
     ]
    },
    {
     "name": "stderr",
     "output_type": "stream",
     "text": [
      "[Parallel(n_jobs=-1)]: Done 124 tasks      | elapsed:  8.3min\n"
     ]
    },
    {
     "name": "stdout",
     "output_type": "stream",
     "text": [
      "[CV]  learning_rate=0.01, max_depth=6, min_samples_leaf=50, score=0.8551372048500319, total=   9.5s\n",
      "[CV] learning_rate=0.01, max_depth=6, min_samples_leaf=100 ...........\n",
      "[CV]  learning_rate=0.01, max_depth=6, min_samples_leaf=50, score=0.8531289910600255, total=   9.5s\n",
      "[CV] learning_rate=0.01, max_depth=6, min_samples_leaf=100 ...........\n",
      "[CV]  learning_rate=0.01, max_depth=6, min_samples_leaf=100, score=0.8552295918367347, total=   8.0s\n",
      "[CV] learning_rate=0.01, max_depth=6, min_samples_leaf=100 ...........\n",
      "[CV]  learning_rate=0.01, max_depth=6, min_samples_leaf=100, score=0.845564773452457, total=   8.5s\n",
      "[CV] learning_rate=0.01, max_depth=6, min_samples_leaf=150 ...........\n",
      "[CV]  learning_rate=0.01, max_depth=6, min_samples_leaf=100, score=0.8486590038314177, total=   8.5s\n",
      "[CV] learning_rate=0.01, max_depth=6, min_samples_leaf=150 ...........\n",
      "[CV]  learning_rate=0.01, max_depth=6, min_samples_leaf=150, score=0.8475765306122449, total=   7.5s\n",
      "[CV] learning_rate=0.01, max_depth=6, min_samples_leaf=150 ...........\n",
      "[CV]  learning_rate=0.01, max_depth=6, min_samples_leaf=150, score=0.8359923420548819, total=   8.5s\n",
      "[CV] learning_rate=0.01, max_depth=8, min_samples_leaf=20 ............\n",
      "[CV]  learning_rate=0.01, max_depth=6, min_samples_leaf=150, score=0.8473818646232439, total=   8.6s\n",
      "[CV] learning_rate=0.01, max_depth=8, min_samples_leaf=20 ............\n",
      "[CV]  learning_rate=0.01, max_depth=8, min_samples_leaf=20, score=0.8603316326530612, total=  14.9s\n",
      "[CV] learning_rate=0.01, max_depth=8, min_samples_leaf=20 ............\n",
      "[CV]  learning_rate=0.01, max_depth=8, min_samples_leaf=20, score=0.8513082322910019, total=  15.8s\n",
      "[CV] learning_rate=0.01, max_depth=8, min_samples_leaf=50 ............\n",
      "[CV]  learning_rate=0.01, max_depth=8, min_samples_leaf=50, score=0.8596938775510204, total=  12.5s\n",
      "[CV] learning_rate=0.01, max_depth=8, min_samples_leaf=50 ............\n",
      "[CV]  learning_rate=0.01, max_depth=8, min_samples_leaf=20, score=0.8620689655172413, total=  16.0s\n",
      "[CV] learning_rate=0.01, max_depth=8, min_samples_leaf=50 ............\n",
      "[CV]  learning_rate=0.01, max_depth=8, min_samples_leaf=50, score=0.8519463943841736, total=  12.8s\n",
      "[CV] learning_rate=0.01, max_depth=8, min_samples_leaf=100 ...........\n",
      "[CV]  learning_rate=0.01, max_depth=8, min_samples_leaf=50, score=0.8537675606641124, total=  12.7s\n",
      "[CV] learning_rate=0.01, max_depth=8, min_samples_leaf=100 ...........\n",
      "[CV]  learning_rate=0.01, max_depth=8, min_samples_leaf=100, score=0.8558673469387755, total=  10.3s\n",
      "[CV] learning_rate=0.01, max_depth=8, min_samples_leaf=100 ...........\n",
      "[CV]  learning_rate=0.01, max_depth=8, min_samples_leaf=100, score=0.8487555839183153, total=  10.8s\n",
      "[CV] learning_rate=0.01, max_depth=8, min_samples_leaf=150 ...........\n",
      "[CV]  learning_rate=0.01, max_depth=8, min_samples_leaf=100, score=0.8518518518518519, total=  11.3s\n",
      "[CV] learning_rate=0.01, max_depth=8, min_samples_leaf=150 ...........\n",
      "[CV]  learning_rate=0.01, max_depth=8, min_samples_leaf=150, score=0.8463010204081632, total=   9.4s\n",
      "[CV] learning_rate=0.01, max_depth=8, min_samples_leaf=150 ...........\n",
      "[CV]  learning_rate=0.01, max_depth=8, min_samples_leaf=150, score=0.8379068283343969, total=  10.1s\n",
      "[CV]  learning_rate=0.01, max_depth=8, min_samples_leaf=150, score=0.8492975734355045, total=  10.3s\n"
     ]
    },
    {
     "name": "stderr",
     "output_type": "stream",
     "text": [
      "[Parallel(n_jobs=-1)]: Done 144 out of 144 | elapsed: 10.1min finished\n"
     ]
    },
    {
     "data": {
      "text/plain": [
       "GridSearchCV(cv=None, error_score='raise',\n",
       "       estimator=GradientBoostingClassifier(criterion='friedman_mse', init=None,\n",
       "              learning_rate=0.1, loss='deviance', max_depth=3,\n",
       "              max_features=None, max_leaf_nodes=None,\n",
       "              min_impurity_decrease=0.0, min_impurity_split=None,\n",
       "              min_samples_leaf=1, min_samples_split=2,\n",
       "              min_weight_fraction_leaf=0.0, n_estimators=600,\n",
       "              presort='auto', random_state=None, subsample=1.0, verbose=0,\n",
       "              warm_start=False),\n",
       "       fit_params=None, iid=True, n_jobs=-1,\n",
       "       param_grid={'learning_rate': [0.1, 0.05, 0.02, 0.01], 'max_depth': [4, 6, 8], 'min_samples_leaf': [20, 50, 100, 150]},\n",
       "       pre_dispatch='2*n_jobs', refit=True, return_train_score='warn',\n",
       "       scoring=None, verbose=3)"
      ]
     },
     "execution_count": 75,
     "metadata": {},
     "output_type": "execute_result"
    }
   ],
   "source": [
    "clf.fit(X_train_scaled_sample, y_train_sample)"
   ]
  },
  {
   "cell_type": "code",
   "execution_count": 76,
   "metadata": {},
   "outputs": [
    {
     "data": {
      "text/plain": [
       "GradientBoostingClassifier(criterion='friedman_mse', init=None,\n",
       "              learning_rate=0.02, loss='deviance', max_depth=6,\n",
       "              max_features=None, max_leaf_nodes=None,\n",
       "              min_impurity_decrease=0.0, min_impurity_split=None,\n",
       "              min_samples_leaf=20, min_samples_split=2,\n",
       "              min_weight_fraction_leaf=0.0, n_estimators=600,\n",
       "              presort='auto', random_state=None, subsample=1.0, verbose=0,\n",
       "              warm_start=False)"
      ]
     },
     "execution_count": 76,
     "metadata": {},
     "output_type": "execute_result"
    }
   ],
   "source": [
    "clf.best_estimator_"
   ]
  },
  {
   "cell_type": "code",
   "execution_count": 77,
   "metadata": {},
   "outputs": [
    {
     "data": {
      "text/plain": [
       "0.86088066368857685"
      ]
     },
     "execution_count": 77,
     "metadata": {},
     "output_type": "execute_result"
    }
   ],
   "source": [
    "clf.best_score_"
   ]
  },
  {
   "cell_type": "code",
   "execution_count": 78,
   "metadata": {},
   "outputs": [],
   "source": [
    "prediction_clf = clf.predict(X_test_scaled)"
   ]
  },
  {
   "cell_type": "code",
   "execution_count": 79,
   "metadata": {},
   "outputs": [
    {
     "name": "stdout",
     "output_type": "stream",
     "text": [
      "             precision    recall  f1-score   support\n",
      "\n",
      "          0       0.89      0.94      0.91      4759\n",
      "          1       0.76      0.62      0.68      1509\n",
      "\n",
      "avg / total       0.86      0.86      0.86      6268\n",
      "\n"
     ]
    }
   ],
   "source": [
    "print(classification_report(y_test,prediction_clf))"
   ]
  },
  {
   "cell_type": "code",
   "execution_count": null,
   "metadata": {},
   "outputs": [],
   "source": []
  }
 ],
 "metadata": {
  "kernelspec": {
   "display_name": "Python 3",
   "language": "python",
   "name": "python3"
  },
  "language_info": {
   "codemirror_mode": {
    "name": "ipython",
    "version": 3
   },
   "file_extension": ".py",
   "mimetype": "text/x-python",
   "name": "python",
   "nbconvert_exporter": "python",
   "pygments_lexer": "ipython3",
   "version": "3.6.4"
  }
 },
 "nbformat": 4,
 "nbformat_minor": 2
}
