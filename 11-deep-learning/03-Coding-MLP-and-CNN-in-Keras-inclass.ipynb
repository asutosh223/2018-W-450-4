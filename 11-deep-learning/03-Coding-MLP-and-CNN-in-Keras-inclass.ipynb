{
 "cells": [
  {
   "cell_type": "code",
   "execution_count": 1,
   "metadata": {},
   "outputs": [],
   "source": [
    "#!pip install keras cython h5py"
   ]
  },
  {
   "cell_type": "code",
   "execution_count": 2,
   "metadata": {
    "scrolled": true
   },
   "outputs": [
    {
     "name": "stderr",
     "output_type": "stream",
     "text": [
      "Using TensorFlow backend.\n"
     ]
    }
   ],
   "source": [
    "import keras\n",
    "import matplotlib.pyplot as plt\n",
    "%matplotlib inline\n",
    "import numpy as np"
   ]
  },
  {
   "cell_type": "markdown",
   "metadata": {},
   "source": [
    "## Explore the Data\n",
    "\n",
    "Today, we'll use deep learning to solve MNIST, the hand-written digit classification task. First, we'll use a multi-layer perceptron to accomplish this task, and then we'll use a convolutional neural network.\n",
    "\n",
    "First, let's import and explore the data."
   ]
  },
  {
   "cell_type": "code",
   "execution_count": 3,
   "metadata": {},
   "outputs": [],
   "source": [
    "from keras.datasets import mnist"
   ]
  },
  {
   "cell_type": "code",
   "execution_count": 4,
   "metadata": {},
   "outputs": [
    {
     "name": "stdout",
     "output_type": "stream",
     "text": [
      "Downloading data from https://s3.amazonaws.com/img-datasets/mnist.npz\n",
      "11493376/11490434 [==============================] - 5s 0us/step\n"
     ]
    }
   ],
   "source": [
    "(X_train, y_train), (X_test, y_test) = mnist.load_data()"
   ]
  },
  {
   "cell_type": "markdown",
   "metadata": {},
   "source": [
    "The data comprises grayscale images of hand-written digits. Let's visualize some."
   ]
  },
  {
   "cell_type": "code",
   "execution_count": 5,
   "metadata": {},
   "outputs": [
    {
     "data": {
      "text/plain": [
       "(60000, 28, 28)"
      ]
     },
     "execution_count": 5,
     "metadata": {},
     "output_type": "execute_result"
    }
   ],
   "source": [
    "X_train.shape"
   ]
  },
  {
   "cell_type": "code",
   "execution_count": 6,
   "metadata": {},
   "outputs": [
    {
     "name": "stdout",
     "output_type": "stream",
     "text": [
      "target:  [0 4 1 9 2 1 3 1 4]\n"
     ]
    },
    {
     "data": {
      "image/png": "[encoded data removed]",
      "text/plain": [
       "<matplotlib.figure.Figure at 0x7fcf5542aac8>"
      ]
     },
     "metadata": {},
     "output_type": "display_data"
    }
   ],
   "source": [
    "print('target: ', y_train[1:10])\n",
    "fig = plt.figure(33)\n",
    "for i in range(1,10):\n",
    "    fig.add_subplot(330+i)\n",
    "    plt.imshow(X_train[i], cmap='Greys')"
   ]
  },
  {
   "cell_type": "markdown",
   "metadata": {},
   "source": [
    "The shape of the data is 28x28, and the type is `numpy.unit8`, as demonstrated below. All images are the same shape."
   ]
  },
  {
   "cell_type": "code",
   "execution_count": 7,
   "metadata": {},
   "outputs": [
    {
     "data": {
      "text/plain": [
       "(28, 28)"
      ]
     },
     "execution_count": 7,
     "metadata": {},
     "output_type": "execute_result"
    }
   ],
   "source": [
    "X_train[0].shape"
   ]
  },
  {
   "cell_type": "code",
   "execution_count": 8,
   "metadata": {},
   "outputs": [
    {
     "data": {
      "text/plain": [
       "numpy.uint8"
      ]
     },
     "execution_count": 8,
     "metadata": {},
     "output_type": "execute_result"
    }
   ],
   "source": [
    "type(X_train[0][0][0])"
   ]
  },
  {
   "cell_type": "code",
   "execution_count": 9,
   "metadata": {},
   "outputs": [
    {
     "data": {
      "text/plain": [
       "{(28, 28)}"
      ]
     },
     "execution_count": 9,
     "metadata": {},
     "output_type": "execute_result"
    }
   ],
   "source": [
    "set([i.shape for i in X_train])"
   ]
  },
  {
   "cell_type": "markdown",
   "metadata": {},
   "source": [
    "## Preproces the data"
   ]
  },
  {
   "cell_type": "markdown",
   "metadata": {},
   "source": [
    "Normalize the data. Pixel values of images are bwtween 0 and 255, and we'd like them to be floats between 0 and 1."
   ]
  },
  {
   "cell_type": "code",
   "execution_count": 10,
   "metadata": {},
   "outputs": [],
   "source": [
    "X_train = X_train.astype('float32')\n",
    "X_test = X_test.astype('float32')\n",
    "X_train /= 255\n",
    "X_test /= 255"
   ]
  },
  {
   "cell_type": "code",
   "execution_count": 11,
   "metadata": {},
   "outputs": [
    {
     "data": {
      "text/plain": [
       "array([5, 0, 4, 1, 9, 2, 1, 3, 1, 4], dtype=uint8)"
      ]
     },
     "execution_count": 11,
     "metadata": {},
     "output_type": "execute_result"
    }
   ],
   "source": [
    "y_train[:10]"
   ]
  },
  {
   "cell_type": "markdown",
   "metadata": {},
   "source": [
    "We need to one-hot encode our Ys. Luckily, Keras has a utility to do this for us!"
   ]
  },
  {
   "cell_type": "code",
   "execution_count": 12,
   "metadata": {},
   "outputs": [],
   "source": [
    "y_train = keras.utils.to_categorical(y_train, 10)\n",
    "y_test = keras.utils.to_categorical(y_test, 10)"
   ]
  },
  {
   "cell_type": "code",
   "execution_count": 13,
   "metadata": {},
   "outputs": [
    {
     "data": {
      "text/plain": [
       "array([[ 0.,  0.,  0.,  0.,  0.,  1.,  0.,  0.,  0.,  0.],\n",
       "       [ 1.,  0.,  0.,  0.,  0.,  0.,  0.,  0.,  0.,  0.],\n",
       "       [ 0.,  0.,  0.,  0.,  1.,  0.,  0.,  0.,  0.,  0.]])"
      ]
     },
     "execution_count": 13,
     "metadata": {},
     "output_type": "execute_result"
    }
   ],
   "source": [
    "y_train[:3]"
   ]
  },
  {
   "cell_type": "markdown",
   "metadata": {},
   "source": [
    "Generally, images are described as height, width, num_channels. Some deep learning languages (i.e. Theano) use num_channels, height, width. We need to see how to format our images!"
   ]
  },
  {
   "cell_type": "code",
   "execution_count": 14,
   "metadata": {},
   "outputs": [
    {
     "data": {
      "text/plain": [
       "'channels_last'"
      ]
     },
     "execution_count": 14,
     "metadata": {},
     "output_type": "execute_result"
    }
   ],
   "source": [
    "keras.backend.image_data_format()"
   ]
  },
  {
   "cell_type": "code",
   "execution_count": 15,
   "metadata": {},
   "outputs": [
    {
     "data": {
      "text/plain": [
       "(60000, 28, 28)"
      ]
     },
     "execution_count": 15,
     "metadata": {},
     "output_type": "execute_result"
    }
   ],
   "source": [
    "X_train.shape"
   ]
  },
  {
   "cell_type": "markdown",
   "metadata": {},
   "source": [
    "To explicitly say there's 1 channel, we need to add a 1 to the shape."
   ]
  },
  {
   "cell_type": "code",
   "execution_count": 16,
   "metadata": {},
   "outputs": [],
   "source": [
    "X_train = X_train.reshape(X_train.shape[0], X_train.shape[1], X_train.shape[2], 1)\n",
    "X_test = X_test.reshape(X_test.shape[0], X_test.shape[1], X_test.shape[2], 1)"
   ]
  },
  {
   "cell_type": "code",
   "execution_count": 17,
   "metadata": {},
   "outputs": [
    {
     "data": {
      "text/plain": [
       "(60000, 28, 28, 1)"
      ]
     },
     "execution_count": 17,
     "metadata": {},
     "output_type": "execute_result"
    }
   ],
   "source": [
    "X_train.shape"
   ]
  },
  {
   "cell_type": "code",
   "execution_count": 18,
   "metadata": {},
   "outputs": [
    {
     "data": {
      "text/plain": [
       "(60000, 10)"
      ]
     },
     "execution_count": 18,
     "metadata": {},
     "output_type": "execute_result"
    }
   ],
   "source": [
    "y_train.shape"
   ]
  },
  {
   "cell_type": "code",
   "execution_count": 19,
   "metadata": {},
   "outputs": [
    {
     "data": {
      "text/plain": [
       "(10000, 28, 28, 1)"
      ]
     },
     "execution_count": 19,
     "metadata": {},
     "output_type": "execute_result"
    }
   ],
   "source": [
    "X_test.shape"
   ]
  },
  {
   "cell_type": "code",
   "execution_count": 20,
   "metadata": {},
   "outputs": [
    {
     "data": {
      "text/plain": [
       "(10000, 10)"
      ]
     },
     "execution_count": 20,
     "metadata": {},
     "output_type": "execute_result"
    }
   ],
   "source": [
    "y_test.shape"
   ]
  },
  {
   "cell_type": "code",
   "execution_count": 21,
   "metadata": {},
   "outputs": [
    {
     "data": {
      "text/plain": [
       "(28, 28, 1)"
      ]
     },
     "execution_count": 21,
     "metadata": {},
     "output_type": "execute_result"
    }
   ],
   "source": [
    "X_train[0].shape"
   ]
  },
  {
   "cell_type": "markdown",
   "metadata": {},
   "source": [
    "## The Multi-Layer Perceptron Model\n",
    "\n",
    "Before we get into CNNs, we will first build a multi-layer perceptron (MLP). This involves an input layer, a layer to flatten the data, and an output layer.\n",
    "\n",
    "To build it, we will use the **sequential model**. Here, we can **add** layers in a sequential list, **compile** the model with an optimizer, loss function, and scorint metric, then **fit** the model to the data. "
   ]
  },
  {
   "cell_type": "markdown",
   "metadata": {},
   "source": [
    "First, let's inport some layers and the sequential model."
   ]
  },
  {
   "cell_type": "code",
   "execution_count": 22,
   "metadata": {},
   "outputs": [],
   "source": [
    "from keras.layers import Input, Conv2D, MaxPool2D, Dropout, Activation, Dense, Flatten\n",
    "from keras.models import Sequential\n",
    "from keras.activations import relu, softmax"
   ]
  },
  {
   "cell_type": "markdown",
   "metadata": {},
   "source": [
    "Now, let's instantiate our model. Notice that the first layer has an `input_shape` parameter. Because there are 24 output neurons, and 28 inputs to that 'neurons', the output of that layer is 28x28x24. \n",
    "\n",
    "The next layer, `flatten`, simply turns the 3d input into a vector of length 18816 (18816 = 28x28x24). \n",
    "\n",
    "Finally, we have a `dense` layer with an output shape of 10 neurons and a `softmax` activation. This results in 10 output neurons that encode probabilities of each class (digits 0-9)."
   ]
  },
  {
   "cell_type": "code",
   "execution_count": 23,
   "metadata": {},
   "outputs": [],
   "source": [
    "mlp = Sequential([\n",
    "    Dense(24, input_shape=(28,28,1), activation='relu', name='dense_1_mlp'),\n",
    "    Flatten(name='flatten_1_mlp'),\n",
    "    Dense(24, activation='relu', name='dense_2_mlp'),\n",
    "    Dropout(.5),\n",
    "    Dense(24, activation='relu', name='dense_3_mlp'),\n",
    "    Dropout(.25),\n",
    "    Dense(10, activation='softmax', name='digit_clf_mlp')\n",
    "])"
   ]
  },
  {
   "cell_type": "code",
   "execution_count": 24,
   "metadata": {},
   "outputs": [
    {
     "name": "stdout",
     "output_type": "stream",
     "text": [
      "_________________________________________________________________\n",
      "Layer (type)                 Output Shape              Param #   \n",
      "=================================================================\n",
      "dense_1_mlp (Dense)          (None, 28, 28, 24)        48        \n",
      "_________________________________________________________________\n",
      "flatten_1_mlp (Flatten)      (None, 18816)             0         \n",
      "_________________________________________________________________\n",
      "dense_2_mlp (Dense)          (None, 24)                451608    \n",
      "_________________________________________________________________\n",
      "dropout_1 (Dropout)          (None, 24)                0         \n",
      "_________________________________________________________________\n",
      "dense_3_mlp (Dense)          (None, 24)                600       \n",
      "_________________________________________________________________\n",
      "dropout_2 (Dropout)          (None, 24)                0         \n",
      "_________________________________________________________________\n",
      "digit_clf_mlp (Dense)        (None, 10)                250       \n",
      "=================================================================\n",
      "Total params: 452,506\n",
      "Trainable params: 452,506\n",
      "Non-trainable params: 0\n",
      "_________________________________________________________________\n"
     ]
    }
   ],
   "source": [
    "mlp.summary()"
   ]
  },
  {
   "cell_type": "code",
   "execution_count": 25,
   "metadata": {},
   "outputs": [],
   "source": [
    "mlp.compile(optimizer=keras.optimizers.SGD(),\n",
    "           loss=keras.losses.categorical_crossentropy,\n",
    "           metrics=['accuracy'])"
   ]
  },
  {
   "cell_type": "code",
   "execution_count": 26,
   "metadata": {
    "scrolled": true
   },
   "outputs": [
    {
     "name": "stdout",
     "output_type": "stream",
     "text": [
      "Train on 48000 samples, validate on 12000 samples\n",
      "Epoch 1/5\n",
      "48000/48000 [==============================] - 19s 402us/step - loss: 1.5155 - acc: 0.4924 - val_loss: 0.5937 - val_acc: 0.8749\n",
      "Epoch 2/5\n",
      "48000/48000 [==============================] - 20s 410us/step - loss: 0.9752 - acc: 0.6748 - val_loss: 0.4191 - val_acc: 0.8974\n",
      "Epoch 3/5\n",
      "48000/48000 [==============================] - 20s 415us/step - loss: 0.8620 - acc: 0.7172 - val_loss: 0.3737 - val_acc: 0.9062\n",
      "Epoch 4/5\n",
      "48000/48000 [==============================] - 20s 411us/step - loss: 0.8030 - acc: 0.7401 - val_loss: 0.3500 - val_acc: 0.9111\n",
      "Epoch 5/5\n",
      "48000/48000 [==============================] - 20s 412us/step - loss: 0.7730 - acc: 0.7508 - val_loss: 0.3309 - val_acc: 0.9149\n"
     ]
    }
   ],
   "source": [
    "mlp_history = mlp.fit(X_train, y_train, validation_split=.2, epochs=5)"
   ]
  },
  {
   "cell_type": "code",
   "execution_count": 27,
   "metadata": {},
   "outputs": [
    {
     "data": {
      "image/png": "[encoded data removed]",
      "text/plain": [
       "<matplotlib.figure.Figure at 0x7fcf421064a8>"
      ]
     },
     "metadata": {},
     "output_type": "display_data"
    }
   ],
   "source": [
    "fig = plt.figure(figsize=(8,6))\n",
    "for i, (title, data) in enumerate(mlp_history.history.items()):\n",
    "    fig.add_subplot(2,2,1+i)\n",
    "    plt.plot(data)\n",
    "    plt.xlabel('Epoch')\n",
    "    plt.ylabel(title)\n",
    "plt.tight_layout()"
   ]
  },
  {
   "cell_type": "markdown",
   "metadata": {},
   "source": [
    "## The Convolutional Neural Network (CNN)\n",
    "\n",
    "Now let's build a CNN. You'll see that this not only trains faster, but gets better scores. \n",
    "\n",
    "We'll play around with cnn parameters to see how some tuning can improve our model's performance."
   ]
  },
  {
   "cell_type": "code",
   "execution_count": 28,
   "metadata": {},
   "outputs": [],
   "source": [
    "cnn = Sequential([\n",
    "    Conv2D(16, kernel_size=(5, 5), strides=(2,2),\n",
    "                 activation='relu',\n",
    "                 input_shape=(28,28,1),\n",
    "                 padding='same', name='conv1'),\n",
    "    Conv2D(16, (3, 3), activation='relu', padding='same', name='conv2'),\n",
    "    Dropout(.25),\n",
    "    MaxPool2D(name='convpool1'),\n",
    "    Flatten(name='convflatten'),\n",
    "    Dense(64, activation='relu', name='convdense1'),\n",
    "    Dropout(.25),\n",
    "    Dense(10, activation='softmax', name='convoutput')\n",
    "])"
   ]
  },
  {
   "cell_type": "code",
   "execution_count": 29,
   "metadata": {
    "scrolled": false
   },
   "outputs": [
    {
     "name": "stdout",
     "output_type": "stream",
     "text": [
      "_________________________________________________________________\n",
      "Layer (type)                 Output Shape              Param #   \n",
      "=================================================================\n",
      "conv1 (Conv2D)               (None, 14, 14, 16)        416       \n",
      "_________________________________________________________________\n",
      "conv2 (Conv2D)               (None, 14, 14, 16)        2320      \n",
      "_________________________________________________________________\n",
      "dropout_3 (Dropout)          (None, 14, 14, 16)        0         \n",
      "_________________________________________________________________\n",
      "convpool1 (MaxPooling2D)     (None, 7, 7, 16)          0         \n",
      "_________________________________________________________________\n",
      "convflatten (Flatten)        (None, 784)               0         \n",
      "_________________________________________________________________\n",
      "convdense1 (Dense)           (None, 64)                50240     \n",
      "_________________________________________________________________\n",
      "dropout_4 (Dropout)          (None, 64)                0         \n",
      "_________________________________________________________________\n",
      "convoutput (Dense)           (None, 10)                650       \n",
      "=================================================================\n",
      "Total params: 53,626\n",
      "Trainable params: 53,626\n",
      "Non-trainable params: 0\n",
      "_________________________________________________________________\n"
     ]
    }
   ],
   "source": [
    "cnn.summary()"
   ]
  },
  {
   "cell_type": "code",
   "execution_count": 30,
   "metadata": {},
   "outputs": [],
   "source": [
    "cnn.compile(loss=keras.losses.categorical_crossentropy,\n",
    "              optimizer=keras.optimizers.Adadelta(),\n",
    "              metrics=['accuracy'])"
   ]
  },
  {
   "cell_type": "code",
   "execution_count": 31,
   "metadata": {},
   "outputs": [],
   "source": [
    "from keras.callbacks import TensorBoard, EarlyStopping\n",
    "\n",
    "es = EarlyStopping(patience=0)\n",
    "tb = TensorBoard(log_dir='./tf_logs/cnn/')"
   ]
  },
  {
   "cell_type": "code",
   "execution_count": 32,
   "metadata": {
    "scrolled": false
   },
   "outputs": [
    {
     "name": "stdout",
     "output_type": "stream",
     "text": [
      "Train on 42000 samples, validate on 18000 samples\n",
      "Epoch 1/5\n",
      "42000/42000 [==============================] - 20s 488us/step - loss: 0.3852 - acc: 0.8791 - val_loss: 0.1550 - val_acc: 0.9552\n",
      "Epoch 2/5\n",
      "42000/42000 [==============================] - 21s 490us/step - loss: 0.1804 - acc: 0.9466 - val_loss: 0.1176 - val_acc: 0.9661\n",
      "Epoch 3/5\n",
      "42000/42000 [==============================] - 20s 487us/step - loss: 0.1424 - acc: 0.9568 - val_loss: 0.0958 - val_acc: 0.9723\n",
      "Epoch 4/5\n",
      "42000/42000 [==============================] - 21s 489us/step - loss: 0.1242 - acc: 0.9623 - val_loss: 0.0836 - val_acc: 0.9757\n",
      "Epoch 5/5\n",
      "42000/42000 [==============================] - 21s 491us/step - loss: 0.1097 - acc: 0.9672 - val_loss: 0.0796 - val_acc: 0.9765\n"
     ]
    }
   ],
   "source": [
    "cnn_history = cnn.fit(X_train, y_train, validation_split=.3, epochs=5, callbacks=[tb, es])"
   ]
  },
  {
   "cell_type": "code",
   "execution_count": 33,
   "metadata": {},
   "outputs": [
    {
     "data": {
      "image/png": "[encoded data removed]",
      "text/plain": [
       "<matplotlib.figure.Figure at 0x7fcf2607d080>"
      ]
     },
     "metadata": {},
     "output_type": "display_data"
    }
   ],
   "source": [
    "fig = plt.figure(figsize=(8,6))\n",
    "for i, (title, data) in enumerate(cnn_history.history.items()):\n",
    "    fig.add_subplot(2,2,1+i)\n",
    "    plt.plot(data)\n",
    "    plt.xlabel('Epoch')\n",
    "    plt.ylabel(title)\n",
    "plt.tight_layout()"
   ]
  },
  {
   "cell_type": "code",
   "execution_count": 34,
   "metadata": {},
   "outputs": [
    {
     "name": "stdout",
     "output_type": "stream",
     "text": [
      "10000/10000 [==============================] - 1s 119us/step\n"
     ]
    }
   ],
   "source": [
    "loss, accuracy = cnn.evaluate(X_test, y_test)"
   ]
  },
  {
   "cell_type": "code",
   "execution_count": 35,
   "metadata": {},
   "outputs": [
    {
     "data": {
      "text/plain": [
       "0.97819999999999996"
      ]
     },
     "execution_count": 35,
     "metadata": {},
     "output_type": "execute_result"
    }
   ],
   "source": [
    "accuracy"
   ]
  },
  {
   "cell_type": "code",
   "execution_count": 36,
   "metadata": {},
   "outputs": [],
   "source": [
    "y_pred_probas = cnn.predict(X_test)"
   ]
  },
  {
   "cell_type": "code",
   "execution_count": 37,
   "metadata": {},
   "outputs": [
    {
     "data": {
      "text/plain": [
       "array([  2.30664767e-08,   2.15346432e-07,   1.01808737e-05,\n",
       "         1.52211333e-05,   5.24533661e-09,   1.23598376e-08,\n",
       "         3.78934080e-12,   9.99949574e-01,   2.28993414e-07,\n",
       "         2.44116072e-05], dtype=float32)"
      ]
     },
     "execution_count": 37,
     "metadata": {},
     "output_type": "execute_result"
    }
   ],
   "source": [
    "y_pred_probas[0]"
   ]
  },
  {
   "cell_type": "code",
   "execution_count": 38,
   "metadata": {},
   "outputs": [],
   "source": [
    "y_pred = np.argmax(y_pred_probas, axis=1)"
   ]
  },
  {
   "cell_type": "code",
   "execution_count": 39,
   "metadata": {},
   "outputs": [
    {
     "data": {
      "text/plain": [
       "array([7, 2, 1, 0, 4])"
      ]
     },
     "execution_count": 39,
     "metadata": {},
     "output_type": "execute_result"
    }
   ],
   "source": [
    "y_pred[:5]"
   ]
  },
  {
   "cell_type": "code",
   "execution_count": 40,
   "metadata": {
    "scrolled": true
   },
   "outputs": [
    {
     "data": {
      "text/plain": [
       "array([7, 2, 1, 0, 4])"
      ]
     },
     "execution_count": 40,
     "metadata": {},
     "output_type": "execute_result"
    }
   ],
   "source": [
    "np.argmax(y_test, axis=1)[:5]"
   ]
  },
  {
   "cell_type": "code",
   "execution_count": 41,
   "metadata": {},
   "outputs": [],
   "source": [
    "cnn.save('model.h5')"
   ]
  },
  {
   "cell_type": "markdown",
   "metadata": {
    "collapsed": true
   },
   "source": [
    "#### Which model has more params?"
   ]
  },
  {
   "cell_type": "code",
   "execution_count": 42,
   "metadata": {},
   "outputs": [],
   "source": [
    "model = keras.models.load_model('model.h5')"
   ]
  },
  {
   "cell_type": "code",
   "execution_count": 43,
   "metadata": {},
   "outputs": [
    {
     "name": "stdout",
     "output_type": "stream",
     "text": [
      "_________________________________________________________________\n",
      "Layer (type)                 Output Shape              Param #   \n",
      "=================================================================\n",
      "conv1 (Conv2D)               (None, 14, 14, 16)        416       \n",
      "_________________________________________________________________\n",
      "conv2 (Conv2D)               (None, 14, 14, 16)        2320      \n",
      "_________________________________________________________________\n",
      "dropout_3 (Dropout)          (None, 14, 14, 16)        0         \n",
      "_________________________________________________________________\n",
      "convpool1 (MaxPooling2D)     (None, 7, 7, 16)          0         \n",
      "_________________________________________________________________\n",
      "convflatten (Flatten)        (None, 784)               0         \n",
      "_________________________________________________________________\n",
      "convdense1 (Dense)           (None, 64)                50240     \n",
      "_________________________________________________________________\n",
      "dropout_4 (Dropout)          (None, 64)                0         \n",
      "_________________________________________________________________\n",
      "convoutput (Dense)           (None, 10)                650       \n",
      "=================================================================\n",
      "Total params: 53,626\n",
      "Trainable params: 53,626\n",
      "Non-trainable params: 0\n",
      "_________________________________________________________________\n"
     ]
    }
   ],
   "source": [
    "model.summary()"
   ]
  },
  {
   "cell_type": "code",
   "execution_count": null,
   "metadata": {},
   "outputs": [],
   "source": []
  }
 ],
 "metadata": {
  "kernelspec": {
   "display_name": "Python 3",
   "language": "python",
   "name": "python3"
  },
  "language_info": {
   "codemirror_mode": {
    "name": "ipython",
    "version": 3
   },
   "file_extension": ".py",
   "mimetype": "text/x-python",
   "name": "python",
   "nbconvert_exporter": "python",
   "pygments_lexer": "ipython3",
   "version": "3.6.3"
  }
 },
 "nbformat": 4,
 "nbformat_minor": 2
}
