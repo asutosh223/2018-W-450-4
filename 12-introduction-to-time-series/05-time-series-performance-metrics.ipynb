{
 "cells": [
  {
   "cell_type": "markdown",
   "metadata": {},
   "source": [
    "# Introduction to Time Series\n",
    "\n",
    "## Forecasting Performance Metrics"
   ]
  },
  {
   "cell_type": "code",
   "execution_count": null,
   "metadata": {},
   "outputs": [],
   "source": [
    "import matplotlib.pyplot as plt\n",
    "import numpy as np\n",
    "import pandas as pd\n",
    "import statsmodels as sm\n",
    "\n",
    "%matplotlib inline\n",
    "\n",
    "bike_sharing_df = pd.read_csv('bike_sharing_day.csv', index_col=0)\n",
    "bike_sharing_df.dteday = pd.to_datetime(bike_sharing_df.dteday)\n",
    "\n",
    "bike_sharing_df.set_index('dteday', inplace=True)\n",
    "bike_sharing_df.head()"
   ]
  },
  {
   "cell_type": "code",
   "execution_count": null,
   "metadata": {},
   "outputs": [],
   "source": [
    "def time_series_train_test_split(dataframe, target, pct=30):\n",
    "    n = dataframe.shape[0]\n",
    "    dataframe = dataframe.dropna().copy()\n",
    "    train_n = int(n*(100-pct)/100)\n",
    "    train_feats = list(dataframe.columns)\n",
    "    train_feats.remove(target)\n",
    "    return (dataframe[:train_n][train_feats],\n",
    "            dataframe[train_n:][train_feats],\n",
    "            dataframe[:train_n][target],\n",
    "            dataframe[train_n:][target])"
   ]
  },
  {
   "cell_type": "code",
   "execution_count": null,
   "metadata": {},
   "outputs": [],
   "source": [
    "features = bike_sharing_df.drop(['casual','registered'], axis=1)"
   ]
  },
  {
   "cell_type": "code",
   "execution_count": null,
   "metadata": {},
   "outputs": [],
   "source": [
    "(feature_tr_df, \n",
    " feature_ts_df, \n",
    " target_tr, \n",
    " target_ts) = time_series_train_test_split(features, 'cnt')"
   ]
  },
  {
   "cell_type": "code",
   "execution_count": null,
   "metadata": {},
   "outputs": [],
   "source": [
    "feature_tr_df.head()"
   ]
  },
  {
   "cell_type": "code",
   "execution_count": null,
   "metadata": {},
   "outputs": [],
   "source": [
    "from sklearn.linear_model import LinearRegression, Ridge, Lasso\n",
    "from sklearn.tree import DecisionTreeRegressor\n",
    "from sklearn.neighbors import KNeighborsRegressor\n",
    "from sklearn.ensemble import GradientBoostingRegressor, RandomForestRegressor\n",
    "from sklearn.svm import SVR, LinearSVR\n",
    "\n",
    "from sklearn.metrics import mean_absolute_error, \\\n",
    "                            mean_squared_error, \\\n",
    "                            r2_score\n",
    "\n",
    "def fit_predict_score(model):\n",
    "    \n",
    "    scores_train = { 'model': model, 'dataset': 'train'}\n",
    "    scores_test = { 'model': model, 'dataset': 'test'}\n",
    "    model.fit(feature_tr_df, target_tr)\n",
    "    \n",
    "    predictions_tr = model.predict(feature_tr_df)\n",
    "    predictions_ts = model.predict(feature_ts_df)\n",
    "    \n",
    "    scores_train['mae'] = mean_absolute_error(target_tr, predictions_tr)\n",
    "    scores_test['mae'] = mean_absolute_error(target_ts, predictions_ts)\n",
    "    scores_train['mse'] = mean_squared_error(target_tr, predictions_tr)\n",
    "    scores_test['mse'] = mean_squared_error(target_ts, predictions_ts)\n",
    "    scores_train['rmse'] = np.sqrt(mean_squared_error(target_tr, predictions_tr))\n",
    "    scores_test['rmse'] = np.sqrt(mean_squared_error(target_ts, predictions_ts))\n",
    "    scores_train['r2'] = r2_score(target_tr, predictions_tr)\n",
    "    scores_test['r2'] = r2_score(target_ts, predictions_ts)\n",
    "    \n",
    "    return [scores_train, scores_test]\n",
    "    "
   ]
  },
  {
   "cell_type": "code",
   "execution_count": null,
   "metadata": {},
   "outputs": [],
   "source": [
    "results = (fit_predict_score(LinearRegression()) +\n",
    "           fit_predict_score(Ridge()) +\n",
    "           fit_predict_score(Lasso()) +\n",
    "           fit_predict_score(DecisionTreeRegressor()) +\n",
    "           fit_predict_score(KNeighborsRegressor()) +\n",
    "           fit_predict_score(GradientBoostingRegressor()) +\n",
    "           fit_predict_score(RandomForestRegressor()) +\n",
    "           fit_predict_score(SVR()) +\n",
    "           fit_predict_score(LinearSVR()))"
   ]
  },
  {
   "cell_type": "code",
   "execution_count": null,
   "metadata": {},
   "outputs": [],
   "source": [
    "results_df = pd.DataFrame(results)\n",
    "results_df['model_name'] = results_df.model.apply(lambda x: x.__class__.__name__)\n",
    "results_df = results_df[['model_name', 'model', 'dataset', 'mae', 'rmse', 'mse', 'r2']]\n",
    "\n",
    "results_df"
   ]
  },
  {
   "cell_type": "code",
   "execution_count": null,
   "metadata": {},
   "outputs": [],
   "source": [
    "short_names = {\n",
    "    'LinearRegression' : 'linrg',\n",
    "    'Ridge' : 'ridge',\n",
    "    'Lasso' : 'lasso',\n",
    "    'DecisionTreeRegressor' : 'dtree',\n",
    "    'KNeighborsRegressor' : 'knnrg',\n",
    "    'GradientBoostingRegressor' : 'grbst',\n",
    "    'RandomForestRegressor' : 'rndfr',\n",
    "    'SVR' : 'svreg',\n",
    "    'LinearSVR' : 'svlin',\n",
    "}\n",
    "results_df['model_short_name'] = results_df.model_name.apply(lambda x: short_names[x])"
   ]
  },
  {
   "cell_type": "code",
   "execution_count": null,
   "metadata": {},
   "outputs": [],
   "source": [
    "_, ax = plt.subplots(1,4,figsize=(20,6))\n",
    "test_results_df = results_df[results_df.dataset == 'test']\n",
    "test_results_df.set_index('model_short_name', drop=True, inplace=True)\n",
    "test_results_df.mae.plot(kind='bar', rot=45, title='MAE by Model', ax=ax[0])\n",
    "test_results_df.mse.plot(kind='bar', rot=45, title='MSE by Model', ax=ax[1])\n",
    "test_results_df.rmse.plot(kind='bar', rot=45, title='RMSE by Model', ax=ax[2])\n",
    "test_results_df.r2.plot(kind='bar', rot=45, title='RMSE by Model', ax=ax[3])"
   ]
  }
 ],
 "metadata": {
  "kernelspec": {
   "display_name": "Python 3",
   "language": "python",
   "name": "python3"
  },
  "language_info": {
   "codemirror_mode": {
    "name": "ipython",
    "version": 3
   },
   "file_extension": ".py",
   "mimetype": "text/x-python",
   "name": "python",
   "nbconvert_exporter": "python",
   "pygments_lexer": "ipython3",
   "version": "3.6.4"
  }
 },
 "nbformat": 4,
 "nbformat_minor": 2
}
