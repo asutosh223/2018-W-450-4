{
 "cells": [
  {
   "cell_type": "markdown",
   "metadata": {},
   "source": [
    "# Introduction to Time Series\n",
    "\n",
    "## Decomposing Time Series Data"
   ]
  },
  {
   "cell_type": "code",
   "execution_count": null,
   "metadata": {},
   "outputs": [],
   "source": [
    "import matplotlib.pyplot as plt\n",
    "import pandas as pd\n",
    "import statsmodels as sm\n",
    "\n",
    "%matplotlib inline\n",
    "\n",
    "bike_sharing_df = pd.read_csv('bike_sharing_day.csv', index_col=0)\n",
    "bike_sharing_df.dteday = pd.to_datetime(bike_sharing_df.dteday)\n",
    "\n",
    "bike_sharing_df.set_index('dteday', inplace=True)\n",
    "bike_sharing_df.head()"
   ]
  },
  {
   "cell_type": "markdown",
   "metadata": {},
   "source": [
    "### Time Series Components\n",
    "\n",
    "\n",
    "A useful abstraction for selecting forecasting methods is to break a time series down into systematic and unsystematic components:\n",
    "- **Systematic**: Components of the time series that have consistency or recurrence and can be described and modeled.\n",
    "- **Non-Systematic**: Components of the time series that cannot be directly modeled.\n",
    "  \n",
    "A given time series is thought to consist of three systematic components including level, trend, seasonality, and one non-systematic component called noise. These components are defined as follows:\n",
    "- **Level**: The average value in the series.\n",
    "- **Trend**: The increasing or decreasing value in the series.\n",
    "- **Seasonality**: The repeating short-term cycle in the series.\n",
    "- **Noise**: The random variation in the series."
   ]
  },
  {
   "cell_type": "markdown",
   "metadata": {},
   "source": [
    "#### Additive Model\n",
    "\n",
    "$$\\widehat{f} = \\text{Level} + \\text{Trend} + \\text{Seasonality} + \\text{Noise}$$\n",
    "\n",
    "#### Multiplicative Model\n",
    "\n",
    "$$\\widehat{f} = \\text{Level} \\cdot \\text{Trend} \\cdot \\text{Seasonality} \\cdot \\text{Noise}$$"
   ]
  },
  {
   "cell_type": "markdown",
   "metadata": {},
   "source": [
    "### Automatic Time Series Decomposition "
   ]
  },
  {
   "cell_type": "code",
   "execution_count": null,
   "metadata": {},
   "outputs": [],
   "source": [
    "from statsmodels.tsa.seasonal import seasonal_decompose\n",
    "result = seasonal_decompose(bike_sharing_df.cnt, model='additive')"
   ]
  },
  {
   "cell_type": "code",
   "execution_count": null,
   "metadata": {},
   "outputs": [],
   "source": [
    "type(result)"
   ]
  },
  {
   "cell_type": "code",
   "execution_count": null,
   "metadata": {},
   "outputs": [],
   "source": [
    "_ = result.plot()"
   ]
  },
  {
   "cell_type": "code",
   "execution_count": null,
   "metadata": {},
   "outputs": [],
   "source": [
    "result = seasonal_decompose(bike_sharing_df.cnt, model='multiplicative', freq=1)"
   ]
  },
  {
   "cell_type": "code",
   "execution_count": null,
   "metadata": {},
   "outputs": [],
   "source": [
    "_ = result.plot()"
   ]
  },
  {
   "cell_type": "markdown",
   "metadata": {},
   "source": [
    "### Identifying a Trend"
   ]
  },
  {
   "cell_type": "markdown",
   "metadata": {},
   "source": [
    "You can plot time series data to see if a trend is obvious or not. The difficulty is that in practice, identifying a trend in a time series can be a subjective process. As such, extracting or removing it from the time series can be just as subjective. Create line plots of your data and inspect the plots for obvious trends. Add linear and nonlinear trend lines to your plots and see if a trend is obvious."
   ]
  },
  {
   "cell_type": "code",
   "execution_count": null,
   "metadata": {},
   "outputs": [],
   "source": [
    "bike_sharing_df.cnt.plot(figsize=(20,5))"
   ]
  },
  {
   "cell_type": "markdown",
   "metadata": {},
   "source": [
    "### Removing a Trend\n",
    "\n",
    "A time series with a trend is called non-stationary. An identified trend can be modeled. Once modeled, it can be removed from the time series dataset. This is called detrending the time series. If a dataset does not have a trend or we successfully remove the trend, the dataset is said to be trend stationary."
   ]
  },
  {
   "cell_type": "markdown",
   "metadata": {},
   "source": [
    "### Detrend by Differencing"
   ]
  },
  {
   "cell_type": "code",
   "execution_count": null,
   "metadata": {},
   "outputs": [],
   "source": [
    "bike_sharing_df['cnt_shift_1'] = bike_sharing_df.cnt.shift(1)"
   ]
  },
  {
   "cell_type": "code",
   "execution_count": null,
   "metadata": {},
   "outputs": [],
   "source": [
    "bike_sharing_df.head()"
   ]
  },
  {
   "cell_type": "code",
   "execution_count": null,
   "metadata": {},
   "outputs": [],
   "source": [
    "bike_sharing_df['cnt_diff_detrend'] = bike_sharing_df.cnt - bike_sharing_df.cnt_shift_1"
   ]
  },
  {
   "cell_type": "code",
   "execution_count": null,
   "metadata": {},
   "outputs": [],
   "source": [
    "bike_sharing_df[['cnt', 'cnt_diff_detrend']].plot(figsize=(20,8))"
   ]
  },
  {
   "cell_type": "markdown",
   "metadata": {},
   "source": [
    "## Seasonality"
   ]
  },
  {
   "cell_type": "markdown",
   "metadata": {},
   "source": [
    "> A repeating pattern within each year is known as seasonal variation, although the term is applied more generally to repeating patterns within any fixed period.\n",
    "\n",
    "Page 6, Introductory Time Series with R."
   ]
  },
  {
   "cell_type": "markdown",
   "metadata": {},
   "source": [
    "#### Types of Seasonality\n",
    "\n",
    "There are many types of seasonality; for example:   \n",
    "- Time of Day\n",
    "- Daily\n",
    "- Weekly\n",
    "- Monthly\n",
    "- Yearly\n"
   ]
  },
  {
   "cell_type": "markdown",
   "metadata": {},
   "source": [
    "### Seasonal Adjustment with Differencing"
   ]
  },
  {
   "cell_type": "markdown",
   "metadata": {},
   "source": [
    "##### We already did this for daily"
   ]
  },
  {
   "cell_type": "code",
   "execution_count": null,
   "metadata": {},
   "outputs": [],
   "source": [
    "bike_sharing_df['cnt_shift_7'] = bike_sharing_df.cnt.shift(7)\n",
    "bike_sharing_df['cnt_diff_detrend_weekly'] = bike_sharing_df.cnt - bike_sharing_df.cnt_shift_7\n",
    "bike_sharing_df[['cnt', 'cnt_diff_detrend_weekly']].plot(figsize=(20,8))"
   ]
  },
  {
   "cell_type": "code",
   "execution_count": null,
   "metadata": {},
   "outputs": [],
   "source": [
    "bike_sharing_df['cnt_shift_30'] = bike_sharing_df.cnt.shift(30)\n",
    "bike_sharing_df['cnt_diff_detrend_monthly'] = bike_sharing_df.cnt - bike_sharing_df.cnt_shift_30\n",
    "bike_sharing_df[['cnt', 'cnt_diff_detrend_monthly']].plot(figsize=(20,8))"
   ]
  },
  {
   "cell_type": "code",
   "execution_count": null,
   "metadata": {},
   "outputs": [],
   "source": [
    "bike_sharing_df['cnt_shift_365'] = bike_sharing_df.cnt.shift(365)\n",
    "bike_sharing_df['cnt_diff_detrend_yearly'] = bike_sharing_df.cnt - bike_sharing_df.cnt_shift_365\n",
    "bike_sharing_df[['cnt', 'cnt_diff_detrend_yearly']].plot(figsize=(20,8))"
   ]
  },
  {
   "cell_type": "code",
   "execution_count": null,
   "metadata": {},
   "outputs": [],
   "source": []
  }
 ],
 "metadata": {
  "kernelspec": {
   "display_name": "Python 3",
   "language": "python",
   "name": "python3"
  },
  "language_info": {
   "codemirror_mode": {
    "name": "ipython",
    "version": 3
   },
   "file_extension": ".py",
   "mimetype": "text/x-python",
   "name": "python",
   "nbconvert_exporter": "python",
   "pygments_lexer": "ipython3",
   "version": "3.6.4"
  }
 },
 "nbformat": 4,
 "nbformat_minor": 2
}
