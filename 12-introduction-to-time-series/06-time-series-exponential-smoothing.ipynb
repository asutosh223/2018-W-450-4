{
 "cells": [
  {
   "cell_type": "markdown",
   "metadata": {},
   "source": [
    "# Introduction to Time Series\n",
    "\n",
    "## Exponential Smoothing"
   ]
  },
  {
   "cell_type": "code",
   "execution_count": null,
   "metadata": {},
   "outputs": [],
   "source": [
    "import matplotlib.pyplot as plt\n",
    "import numpy as np\n",
    "import pandas as pd\n",
    "import statsmodels as sm\n",
    "\n",
    "%matplotlib inline\n",
    "\n",
    "bike_sharing_df = pd.read_csv('bike_sharing_day.csv', index_col=0)\n",
    "bike_sharing_df.dteday = pd.to_datetime(bike_sharing_df.dteday)\n",
    "\n",
    "bike_sharing_df.set_index('dteday', inplace=True)\n",
    "bike_sharing_df.head()"
   ]
  },
  {
   "cell_type": "markdown",
   "metadata": {},
   "source": [
    "## Simple Exponential Smoothing\n",
    "\n",
    "Forecasts are calculated using weighted averages, where the weights decrease exponentially as observations come from further in the past — the smallest weights are associated with the oldest observations:\n",
    "\n",
    "\\begin{equation}\n",
    "  \\hat{y}_{T+1|T} = \\alpha y_T + \\alpha(1-\\alpha) y_{T-1} + \\alpha(1-\\alpha)^2 y_{T-2}+ \\alpha(1-\\alpha)^3 y_{T-3}+\\cdots,   \\tag{7.1}\n",
    "\\end{equation}\n",
    "\n",
    "\n",
    "where $0 \\le \\alpha \\le 1$ is the smoothing parameter. \n",
    "\n"
   ]
  },
  {
   "cell_type": "markdown",
   "metadata": {},
   "source": [
    "This can be done trivially in pandas via teh `ewm` command:\n",
    "\n",
    "    bike_sharing_df['cnt_ewm_alpha_0_01'] = bike_sharing_df.cnt.ewm(alpha=0.01).mean()"
   ]
  },
  {
   "cell_type": "code",
   "execution_count": null,
   "metadata": {},
   "outputs": [],
   "source": [
    "bike_sharing_df['cnt_ewm_alpha_0_01'] = bike_sharing_df.cnt.ewm(alpha=0.01).mean()\n",
    "bike_sharing_df['cnt_ewm_alpha_0_03'] = bike_sharing_df.cnt.ewm(alpha=0.03).mean()\n",
    "bike_sharing_df['cnt_ewm_alpha_0_05'] = bike_sharing_df.cnt.ewm(alpha=0.05).mean()\n",
    "bike_sharing_df['cnt_ewm_alpha_0_1'] = bike_sharing_df.cnt.ewm(alpha=0.1).mean()\n",
    "bike_sharing_df['cnt_ewm_alpha_0_3'] = bike_sharing_df.cnt.ewm(alpha=0.3).mean()\n",
    "bike_sharing_df['cnt_ewm_alpha_0_5'] = bike_sharing_df.cnt.ewm(alpha=0.5).mean()"
   ]
  },
  {
   "cell_type": "code",
   "execution_count": null,
   "metadata": {},
   "outputs": [],
   "source": [
    "cnt_cols = [col for col in bike_sharing_df.columns if 'cnt' in col]"
   ]
  },
  {
   "cell_type": "code",
   "execution_count": null,
   "metadata": {},
   "outputs": [],
   "source": [
    "bike_sharing_df['04/2011':'09/2011'][cnt_cols].plot(figsize=(20,5))"
   ]
  }
 ],
 "metadata": {
  "kernelspec": {
   "display_name": "Python 3",
   "language": "python",
   "name": "python3"
  },
  "language_info": {
   "codemirror_mode": {
    "name": "ipython",
    "version": 3
   },
   "file_extension": ".py",
   "mimetype": "text/x-python",
   "name": "python",
   "nbconvert_exporter": "python",
   "pygments_lexer": "ipython3",
   "version": "3.6.4"
  }
 },
 "nbformat": 4,
 "nbformat_minor": 2
}
